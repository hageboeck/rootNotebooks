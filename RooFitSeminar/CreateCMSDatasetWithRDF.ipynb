{
 "cells": [
  {
   "cell_type": "markdown",
   "metadata": {},
   "source": [
    "# Creating a RooFit Dataset from CMS Open Data with RDataFrame\n",
    "**Requires ROOT v6.26 or later** (select the bleeding edge on SWAN if it doesn't work).\n",
    "\n",
    "We use two NanoAOD-like input files with 66 mio. events\n",
    "from the CMS OpenData. These contain muon candidates from the 2012 dataset\n",
    "([DOI: 10.7483/OPENDATA.CMS.YLIC.86ZZ](http://opendata.cern.ch/record/6004)\n",
    "and [DOI: 10.7483/OPENDATA.CMS.M5AD.Y3V3](http://opendata.cern.ch/record/6030)).\n",
    "\n",
    "We select events with oppositely charged muons, and compute their invariant masses.\n",
    "Note that the bump at 30 GeV is not a resonance but a trigger effect.\n",
    "\n",
    "Some more details about the dataset:\n",
    "  - It contains about 66 millions events (muon and electron collections, plus some other information, e.g. about primary vertices)\n",
    "  - It spans two compressed ROOT files located on EOS for about a total size of 7.5 GB.\n",
    "\n",
    "\n",
    "\n",
    "\n",
    "**Author:** Stephan Hageböck (CERN)"
   ]
  },
  {
   "cell_type": "markdown",
   "metadata": {},
   "source": [
    "Define helper functions to label a plot and to compute an invariant mass."
   ]
  },
  {
   "cell_type": "code",
   "execution_count": 1,
   "metadata": {},
   "outputs": [],
   "source": [
    "%%cpp -d\n",
    "#include \"ROOT/RDataFrame.hxx\"\n",
    "#include \"ROOT/RVec.hxx\"\n",
    "#include \"TCanvas.h\"\n",
    "#include \"TH1D.h\"\n",
    "#include \"TLatex.h\"\n",
    "#include \"Math/Vector4D.h\"\n",
    "#include \"TStyle.h\"\n",
    "#include <iomanip>\n",
    "\n",
    "using namespace ROOT::VecOps;\n",
    "using namespace ROOT::Math;\n",
    "\n",
    "/// A helper function to create 4-vectors from scalars\n",
    "RVec<PtEtaPhiMVector> makeFromPtEtaPhiM(const RVec<float>& pT, const RVec<float>& eta,\n",
    "                                        const RVec<float>& phi, const RVec<float>& M) {\n",
    "    RVec<PtEtaPhiMVector> result;\n",
    "    result.reserve(pT.size());\n",
    "    for (unsigned int i=0; i < pT.size(); ++i) {\n",
    "        result.emplace_back(pT[i], eta[i], phi[i], M[i]);\n",
    "    }\n",
    "    \n",
    "    return result;\n",
    "};\n",
    "\n",
    "/// Labelling a plot\n",
    "void labelPlot() {\n",
    "    TLatex label; label.SetNDC(true);\n",
    "    label.DrawLatex(0.175, 0.740, \"#eta\");\n",
    "    label.DrawLatex(0.205, 0.775, \"#rho,#omega\");\n",
    "    label.DrawLatex(0.270, 0.740, \"#phi\");\n",
    "    label.DrawLatex(0.400, 0.800, \"J/#psi\");\n",
    "    label.DrawLatex(0.415, 0.670, \"#psi'\");\n",
    "    label.DrawLatex(0.485, 0.700, \"Y(1,2,3S)\");\n",
    "    label.DrawLatex(0.755, 0.680, \"Z\");\n",
    "    label.SetTextSize(0.040); label.DrawLatex(0.100, 0.920, \"#bf{CMS Open Data}\");\n",
    "    label.SetTextSize(0.030); label.DrawLatex(0.630, 0.920, \"#sqrt{s} = 8 TeV, L_{int} = 11.6 fb^{-1}\");\n",
    "};"
   ]
  },
  {
   "cell_type": "markdown",
   "metadata": {},
   "source": [
    "Create dataframe from nanoaod files. We ask ROOT to enable multithreading if possible. On SWAN, we have 2 to 4 logical CPUs."
   ]
  },
  {
   "cell_type": "code",
   "execution_count": 2,
   "metadata": {},
   "outputs": [
    {
     "name": "stderr",
     "output_type": "stream",
     "text": [
      "Warning in <RTaskArenaWrapper>: CPU Bandwith Control Active. Proceeding with 2 threads accordingly\n"
     ]
    }
   ],
   "source": [
    "ROOT::EnableImplicitMT();\n",
    "ROOT::RDataFrame df(\"Events\",\n",
    "                   {\"root://eospublic.cern.ch//eos/root-eos/cms_opendata_2012_nanoaod/Run2012B_DoubleMuParked.root\",\n",
    "                    \"root://eospublic.cern.ch//eos/root-eos/cms_opendata_2012_nanoaod/Run2012C_DoubleMuParked.root\"});"
   ]
  },
  {
   "cell_type": "markdown",
   "metadata": {},
   "source": [
    "Let's explore what's in the files:"
   ]
  },
  {
   "cell_type": "code",
   "execution_count": 3,
   "metadata": {
    "scrolled": true
   },
   "outputs": [
    {
     "name": "stdout",
     "output_type": "stream",
     "text": [
      "(ROOT::RDF::ColumnNames_t) { \"run\", \"luminosityBlock\", \"event\", \"PV_npvs\", \"PV_x\", \"PV_y\", \"PV_z\", \"nMuon\", \"Muon_pt\", \"Muon_eta\", \"Muon_phi\", \"Muon_mass\", \"Muon_charge\", \"Muon_pfRelIso03_all\", \"Muon_pfRelIso04_all\", \"Muon_tightId\", \"Muon_softId\", \"Muon_dxy\", \"Muon_dxyErr\", \"Muon_dz\", \"Muon_dzErr\", \"nElectron\", \"Electron_pt\", \"Electron_eta\", \"Electron_phi\", \"Electron_mass\", \"Electron_charge\", \"Electron_pfRelIso03_all\", \"Electron_dxy\", \"Electron_dxyErr\", \"Electron_dz\", \"Electron_dzErr\" }\n"
     ]
    }
   ],
   "source": [
    "df.GetColumnNames()"
   ]
  },
  {
   "cell_type": "markdown",
   "metadata": {},
   "source": [
    "How many events?"
   ]
  },
  {
   "cell_type": "code",
   "execution_count": 4,
   "metadata": {},
   "outputs": [
    {
     "name": "stdout",
     "output_type": "stream",
     "text": [
      "(unsigned long long) 66128870\n"
     ]
    }
   ],
   "source": [
    "auto nEvt = df.Count();\n",
    "*nEvt"
   ]
  },
  {
   "cell_type": "markdown",
   "metadata": {},
   "source": [
    "For simplicity, let's select only events with exactly two muons and require opposite charge.\n",
    "Then, we compute the invariant mass of the dimuon system. For this, we use the helper function defined above, which creates a column with 4-vectors"
   ]
  },
  {
   "cell_type": "code",
   "execution_count": 5,
   "metadata": {},
   "outputs": [],
   "source": [
    "auto df_filtered = df.Filter(\"nMuon == 2 && Muon_charge[0] * Muon_charge[1] < 0\",\n",
    "                             \"Events with exactly two opposite-charge muons\")\n",
    "                     .Define(\"Muons\", makeFromPtEtaPhiM,\n",
    "                            {\"Muon_pt\", \"Muon_eta\", \"Muon_phi\", \"Muon_mass\"})\n",
    "                     .Define(\"Dimuon_mass\", \"(Muons[0] + Muons[1]).M()\");\n",
    "\n",
    "auto histo = df_filtered.Histo1D({\"Dimuon_mass\", \"Dimuon_mass\", 30000, 0.25, 300},\n",
    "                                 \"Dimuon_mass\");"
   ]
  },
  {
   "cell_type": "markdown",
   "metadata": {},
   "source": [
    "Let's also declare a RooFit dataset, which will be filled while RDataFrame processes the events"
   ]
  },
  {
   "cell_type": "code",
   "execution_count": 6,
   "metadata": {},
   "outputs": [
    {
     "name": "stdout",
     "output_type": "stream",
     "text": [
      "\n",
      "\u001b[1mRooFit v3.60 -- Developed by Wouter Verkerke and David Kirkby\u001b[0m \n",
      "                Copyright (C) 2000-2013 NIKHEF, University of California & Stanford University\n",
      "                All rights reserved, please read http://roofit.sourceforge.net/license.txt\n",
      "\n"
     ]
    }
   ],
   "source": [
    "RooRealVar x(\"x\", \"Dimuon mass\", 0, 150.);\n",
    "RooDataSetHelper datasetConfig(\n",
    "    \"dataset\",              // Name\n",
    "    \"Dimuon spectrum\",      // Title\n",
    "    RooArgSet{x}            // Variables in this dataset\n",
    ");\n",
    "\n",
    "auto rooDataSet = df_filtered.Book<double>(\n",
    "    std::move(datasetConfig),\n",
    "    {\"Dimuon_mass\"}             // Column names in RDataFrame.\n",
    ");"
   ]
  },
  {
   "cell_type": "markdown",
   "metadata": {},
   "source": [
    "Let's create a file and save the dataset in it. Now that the dataset is touched for the first time, RDataFrame starts processing the full 8 Gb."
   ]
  },
  {
   "cell_type": "code",
   "execution_count": 7,
   "metadata": {},
   "outputs": [],
   "source": [
    "TFile file(\"RFDataset.root\", \"RECREATE\");\n",
    "rooDataSet->Write();\n",
    "file.Write();\n",
    "file.Close();"
   ]
  },
  {
   "cell_type": "markdown",
   "metadata": {},
   "source": [
    "Let's plot the histogram that was created during the RDataFrame run. Add `%jsroot on` in the first line if you want an interactive plot."
   ]
  },
  {
   "cell_type": "code",
   "execution_count": 8,
   "metadata": {
    "scrolled": false
   },
   "outputs": [
    {
     "data": {
      "image/png": "[encoded data removed]",
      "text/plain": [
       "<IPython.core.display.Image object>"
      ]
     },
     "metadata": {},
     "output_type": "display_data"
    }
   ],
   "source": [
    "TCanvas* canv_all = new TCanvas(\"canv_all\", \"\", 800, 700);\n",
    "histo->GetYaxis()->SetRangeUser(10, 300000);\n",
    "histo->Draw();\n",
    "\n",
    "canv_all->SetLogx();\n",
    "canv_all->SetLogy();\n",
    "\n",
    "labelPlot();\n",
    "canv_all->Draw();"
   ]
  }
 ],
 "metadata": {
  "kernelspec": {
   "display_name": "ROOT C++",
   "language": "c++",
   "name": "root"
  },
  "language_info": {
   "codemirror_mode": "text/x-c++src",
   "file_extension": ".C",
   "mimetype": " text/x-c++src",
   "name": "c++"
  },
  "latex_envs": {
   "LaTeX_envs_menu_present": true,
   "autoclose": false,
   "autocomplete": true,
   "bibliofile": "biblio.bib",
   "cite_by": "apalike",
   "current_citInitial": 1,
   "eqLabelWithNumbers": true,
   "eqNumInitial": 1,
   "hotkeys": {
    "equation": "Ctrl-E",
    "itemize": "Ctrl-I"
   },
   "labels_anchors": false,
   "latex_user_defs": false,
   "report_style_numbering": false,
   "user_envs_cfg": false
  }
 },
 "nbformat": 4,
 "nbformat_minor": 2
}
