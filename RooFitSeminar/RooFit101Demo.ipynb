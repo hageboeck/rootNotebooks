{
 "cells": [
  {
   "cell_type": "markdown",
   "id": "64dd933e",
   "metadata": {},
   "source": [
    "# RooFit 101\n",
    "**Author:** Stephan Hageboeck (CERN)\n",
    "Here we demonstrate some basic RooFit functionality from building a fit model over generating toy data to fitting."
   ]
  },
  {
   "cell_type": "markdown",
   "id": "80b2c6f2",
   "metadata": {},
   "source": [
    "## Model building\n",
    "Set up a Gaussian distribution. We need three variables for the observable and the parameters."
   ]
  },
  {
   "cell_type": "code",
   "execution_count": 2,
   "id": "ace2715e",
   "metadata": {
    "code_folding": []
   },
   "outputs": [
    {
     "name": "stdout",
     "output_type": "stream",
     "text": [
      "\n",
      "\u001b[1mRooFit v3.60 -- Developed by Wouter Verkerke and David Kirkby\u001b[0m \n",
      "                Copyright (C) 2000-2013 NIKHEF, University of California & Stanford University\n",
      "                All rights reserved, please read http://roofit.sourceforge.net/license.txt\n",
      "\n"
     ]
    }
   ],
   "source": [
    "RooRealVar x(\"x\", \"Observable\", 0., 10.);\n",
    "RooRealVar mean(\"mean\", \"Mean of Gaussian\", 0., 10.);\n",
    "RooRealVar sigma(\"sigma\", \"Width of Gaussian\", 0.1, 5.);\n",
    "\n",
    "RooGaussian gaus(\"gaus\", \"Gaussian distribution\", x, mean, sigma);"
   ]
  },
  {
   "cell_type": "markdown",
   "id": "f7f5a72c",
   "metadata": {},
   "source": [
    "If we print `gaus` in tree mode, we see that it's connected to the three variables we defined above. Also note that there's a big difference between the values we get with and without normalisation over the range of `x`. "
   ]
  },
  {
   "cell_type": "code",
   "execution_count": 4,
   "id": "75742c1e",
   "metadata": {},
   "outputs": [
    {
     "name": "stdout",
     "output_type": "stream",
     "text": [
      "0x7f883c5d3b88 RooGaussian::gaus = 1/6.07292 [Auto,Clean] \n",
      "  0x7f883c5d3000/V- RooRealVar::x = 5\n",
      "  0x7f883c5d33d8/V- RooRealVar::mean = 5\n",
      "  0x7f883c5d37b0/V- RooRealVar::sigma = 2.55\n",
      "Unnormalised: 1\tnormalised: 0.164665\n"
     ]
    }
   ],
   "source": [
    "gaus.Print(\"T\");\n",
    "std::cout << \"Unnormalised: \" << gaus.getVal() << \"\\tnormalised: \" << gaus.getVal(x) << \"\\n\";"
   ]
  },
  {
   "cell_type": "markdown",
   "id": "3cea1bad",
   "metadata": {},
   "source": [
    "If we change the value of `x` or the parameters, the Gaussian changes as well. Note how RooFit also prints the last normalisation constant that had been computed."
   ]
  },
  {
   "cell_type": "code",
   "execution_count": 6,
   "id": "87f943e1",
   "metadata": {},
   "outputs": [
    {
     "name": "stdout",
     "output_type": "stream",
     "text": [
      "0x7f883c5d3b88 RooGaussian::gaus = 0.500553/6.07292 [Auto,Dirty] \n",
      "  0x7f883c5d3000/V- RooRealVar::x = 2\n",
      "  0x7f883c5d33d8/V- RooRealVar::mean = 5\n",
      "  0x7f883c5d37b0/V- RooRealVar::sigma = 2.55\n"
     ]
    }
   ],
   "source": [
    "x = 2.;\n",
    "gaus.Print(\"T\");"
   ]
  },
  {
   "cell_type": "markdown",
   "id": "0df7af51",
   "metadata": {},
   "source": [
    "## Plotting\n",
    "In order to plot anything in RooFit, we have to provide a frame, which decides in which variable we want the plot.\n",
    "Change the parameters and plot a second time if you feel like it."
   ]
  },
  {
   "cell_type": "code",
   "execution_count": 7,
   "id": "136891b8",
   "metadata": {},
   "outputs": [
    {
     "data": {
      "image/png": "[encoded data removed]",
      "text/plain": [
       "<IPython.core.display.Image object>"
      ]
     },
     "metadata": {},
     "output_type": "display_data"
    }
   ],
   "source": [
    "auto c = new TCanvas(\"plot\", \"Plot Gaussian\", 800, 600);\n",
    "\n",
    "auto frame = x.frame();\n",
    "gaus.plotOn(frame);\n",
    "\n",
    "frame->Draw();\n",
    "c->Draw();"
   ]
  },
  {
   "cell_type": "markdown",
   "id": "2676c548",
   "metadata": {},
   "source": [
    "## Fitting\n",
    "For most applications, `pdf.fitTo(data)` is good enough. There's a lot of ways to customise the fits, though. [Check the documentation](https://root.cern.ch/doc/master/classRooAbsPdf.html#a5f79f16f4a26a19c9e66fb5c080f59c5).\n",
    "\n",
    "Let's quickly generate some toy data we can fit."
   ]
  },
  {
   "cell_type": "code",
   "execution_count": 3,
   "id": "d5b0cef4",
   "metadata": {},
   "outputs": [
    {
     "name": "stdout",
     "output_type": "stream",
     "text": [
      "[#1] INFO:Minimization -- RooAbsMinimizerFcn::setOptimizeConst: activating const optimization\n",
      " **********\n",
      " **    1 **SET PRINT           1\n",
      " **********\n",
      " **********\n",
      " **    2 **SET NOGRAD\n",
      " **********\n",
      " PARAMETER DEFINITIONS:\n",
      "    NO.   NAME         VALUE      STEP SIZE      LIMITS\n",
      "     1 mean         5.00000e+00  1.00000e+00    0.00000e+00  1.00000e+01\n",
      "     2 sigma        2.55000e+00  4.90000e-01    1.00000e-01  5.00000e+00\n",
      " **********\n",
      " **    3 **SET ERR         0.5\n",
      " **********\n",
      " **********\n",
      " **    4 **SET PRINT           1\n",
      " **********\n",
      " **********\n",
      " **    5 **SET STR           1\n",
      " **********\n",
      " NOW USING STRATEGY  1: TRY TO BALANCE SPEED AGAINST RELIABILITY\n",
      " **********\n",
      " **    6 **MIGRAD        1000           1\n",
      " **********\n",
      " FIRST CALL TO USER FUNCTION AT NEW START POINT, WITH IFLAG=4.\n",
      " START MIGRAD MINIMIZATION.  STRATEGY  1.  CONVERGENCE WHEN EDM .LT. 1.00e-03\n",
      " FCN=2192.14 FROM MIGRAD    STATUS=INITIATE        8 CALLS           9 TOTAL\n",
      "                     EDM= unknown      STRATEGY= 1      NO ERROR MATRIX       \n",
      "  EXT PARAMETER               CURRENT GUESS       STEP         FIRST   \n",
      "  NO.   NAME      VALUE            ERROR          SIZE      DERIVATIVE \n",
      "   1  mean         5.00000e+00   1.00000e+00   2.01358e-01  -4.78824e+01\n",
      "   2  sigma        2.55000e+00   4.90000e-01   2.01358e-01  -1.67638e+01\n",
      "                               ERR DEF= 0.5\n",
      " MIGRAD MINIMIZATION HAS CONVERGED.\n",
      " MIGRAD WILL VERIFY CONVERGENCE AND ERROR MATRIX.\n",
      " COVARIANCE MATRIX CALCULATED SUCCESSFULLY\n",
      " FCN=2191.56 FROM MIGRAD    STATUS=CONVERGED      31 CALLS          32 TOTAL\n",
      "                     EDM=1.26356e-06    STRATEGY= 1      ERROR MATRIX ACCURATE \n",
      "  EXT PARAMETER                                   STEP         FIRST   \n",
      "  NO.   NAME      VALUE            ERROR          SIZE      DERIVATIVE \n",
      "   1  mean         5.08396e+00   9.57403e-02   6.17601e-04   4.77948e-02\n",
      "   2  sigma        2.60713e+00   9.65339e-02   1.26741e-03  -1.73784e-02\n",
      "                               ERR DEF= 0.5\n",
      " EXTERNAL ERROR MATRIX.    NDIM=  25    NPAR=  2    ERR DEF=0.5\n",
      "  9.167e-03  3.221e-04 \n",
      "  3.221e-04  9.324e-03 \n",
      " PARAMETER  CORRELATION COEFFICIENTS  \n",
      "       NO.  GLOBAL      1      2\n",
      "        1  0.03484   1.000  0.035\n",
      "        2  0.03484   0.035  1.000\n",
      " **********\n",
      " **    7 **SET ERR         0.5\n",
      " **********\n",
      " **********\n",
      " **    8 **SET PRINT           1\n",
      " **********\n",
      " **********\n",
      " **    9 **HESSE        1000\n",
      " **********\n",
      " COVARIANCE MATRIX CALCULATED SUCCESSFULLY\n",
      " FCN=2191.56 FROM HESSE     STATUS=OK             10 CALLS          42 TOTAL\n",
      "                     EDM=1.26506e-06    STRATEGY= 1      ERROR MATRIX ACCURATE \n",
      "  EXT PARAMETER                                INTERNAL      INTERNAL  \n",
      "  NO.   NAME      VALUE            ERROR       STEP SIZE       VALUE   \n",
      "   1  mean         5.08396e+00   9.57358e-02   1.23520e-04   1.67921e-02\n",
      "   2  sigma        2.60713e+00   9.65298e-02   5.06963e-05   2.33187e-02\n",
      "                               ERR DEF= 0.5\n",
      " EXTERNAL ERROR MATRIX.    NDIM=  25    NPAR=  2    ERR DEF=0.5\n",
      "  9.166e-03  3.095e-04 \n",
      "  3.095e-04  9.323e-03 \n",
      " PARAMETER  CORRELATION COEFFICIENTS  \n",
      "       NO.  GLOBAL      1      2\n",
      "        1  0.03348   1.000  0.033\n",
      "        2  0.03348   0.033  1.000\n",
      "[#1] INFO:Minimization -- RooAbsMinimizerFcn::setOptimizeConst: deactivating const optimization\n"
     ]
    }
   ],
   "source": [
    "auto gaussData = gaus.generate(x, 1000);\n",
    "gaus.fitTo(*gaussData);"
   ]
  },
  {
   "cell_type": "markdown",
   "id": "76c12cf9",
   "metadata": {},
   "source": [
    "## Plotting data and fitted function.\n",
    "When plotting data and function, make sure to always plot the data first. Why? RooFit will automatically scale the (normalised) PDF to match the number of data events. You can also show the post-fit parameters on the plot frame."
   ]
  },
  {
   "cell_type": "code",
   "execution_count": 4,
   "id": "76260cb0",
   "metadata": {},
   "outputs": [
    {
     "data": {
      "image/png": "[encoded data removed]",
      "text/plain": [
       "<IPython.core.display.Image object>"
      ]
     },
     "metadata": {},
     "output_type": "display_data"
    },
    {
     "name": "stdout",
     "output_type": "stream",
     "text": [
      "[#0] WARNING:Plotting -- Cannot apply a bin width correction and use Poisson errors. Not correcting for bin width.\n"
     ]
    }
   ],
   "source": [
    "auto c2 = new TCanvas(\"plot2\", \"Plot Gaussian\", 800, 600);\n",
    "auto frame2 = x.frame();\n",
    "\n",
    "gaussData->plotOn(frame2);\n",
    "gaus.plotOn(frame2);\n",
    "gaus.paramOn(frame2);\n",
    "\n",
    "frame2->Draw();\n",
    "c2->Draw();"
   ]
  }
 ],
 "metadata": {
  "kernelspec": {
   "display_name": "ROOT C++",
   "language": "c++",
   "name": "root"
  },
  "language_info": {
   "codemirror_mode": "text/x-c++src",
   "file_extension": ".C",
   "mimetype": " text/x-c++src",
   "name": "c++"
  },
  "latex_envs": {
   "LaTeX_envs_menu_present": true,
   "autoclose": false,
   "autocomplete": true,
   "bibliofile": "biblio.bib",
   "cite_by": "apalike",
   "current_citInitial": 1,
   "eqLabelWithNumbers": true,
   "eqNumInitial": 1,
   "hotkeys": {
    "equation": "Ctrl-E",
    "itemize": "Ctrl-I"
   },
   "labels_anchors": false,
   "latex_user_defs": false,
   "report_style_numbering": false,
   "user_envs_cfg": false
  }
 },
 "nbformat": 4,
 "nbformat_minor": 5
}
