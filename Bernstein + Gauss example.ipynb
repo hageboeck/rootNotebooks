{
 "cells": [
  {
   "cell_type": "markdown",
   "metadata": {},
   "source": [
    "# The optimised computation library of RooFit\n",
    "Author: Stephan Hageboeck\n",
    "\n",
    "Here, we test the impact of using a computation library that is optimised for different CPU models.\n",
    "When RooFit is loaded for the first time, the CPU capabilities are inspected, and a computation library targeted for that CPU is loaded.\n",
    "\n",
    "We visualise this with a little hack here:"
   ]
  },
  {
   "cell_type": "code",
   "execution_count": 1,
   "metadata": {},
   "outputs": [],
   "source": [
    "gDebug = 1;"
   ]
  },
  {
   "cell_type": "markdown",
   "metadata": {},
   "source": [
    "With ROOT's `gDebug` set to 1, ROOT prints things that happen behind the scenes.",
    "Let's now use a RooFit class, which triggers the loading of the RooFit libraries.\n",
    "\n",
    "Note that ROOT loads a library with a suffix such as `_AVX2.so` (depending on the CPU where this runs). \n",
    "\n",
    "We turn `gDebug` off, and now go on to run some fits."
   ]
  },
  {
   "cell_type": "code",
   "execution_count": 2,
   "metadata": {},
   "outputs": [
    {
     "name": "stdout",
     "output_type": "stream",
     "text": [
      "\n",
      "\u001b[1mRooFit v3.60 -- Developed by Wouter Verkerke and David Kirkby\u001b[0m \n",
      "                Copyright (C) 2000-2013 NIKHEF, University of California & Stanford University\n",
      "                All rights reserved, please read http://roofit.sourceforge.net/license.txt\n",
      "\n",
      "In roofitcore/InitUtils.cxx:loadComputeLibrary(): Library libRooBatchCompute_AVX2 was loaded successfully\n"
     ]
    },
    {
     "name": "stderr",
     "output_type": "stream",
     "text": [
      "Info in <TUnixSystem::Load>: loaded library /cvmfs/sft-nightlies.cern.ch/lcg/views/dev3/Mon/x86_64-centos7-gcc8-opt/lib/libRooBatchCompute_AVX2.so, status 0\n",
      "Info in <TUnixSystem::Load>: loaded library /cvmfs/sft-nightlies.cern.ch/lcg/nightlies/dev3/Mon/ROOT/HEAD/x86_64-centos7-gcc8-opt/lib/libRooFitCore.so, status 1\n"
     ]
    }
   ],
   "source": [
    "RooRealVar __var;\n",
    "gDebug = 0;"
   ]
  },
  {
   "cell_type": "markdown",
   "metadata": {},
   "source": [
    "# Let's run a speed test\n",
    "Let's test a fit of the form\n",
    "```\n",
    "Model(x, <parameters>) = frac * Gauss(x | mean, sigma) + (1 - frac) * Bernstein_5(x | a1, ..., a5)\n",
    "```\n",
    "\n",
    "### Step 1: Create a background model (Bernstein polynomials)"
   ]
  },
  {
   "cell_type": "code",
   "execution_count": 3,
   "metadata": {},
   "outputs": [],
   "source": [
    "RooRealVar  x(\"x\", \"x\", -100, 50);\n",
    "RooRealVar a1(\"a1\", \"a1\", 0.8, 0.6, 1.2);\n",
    "RooRealVar a2(\"a2\", \"a2\", 0.0, -1.0, 1.0);\n",
    "RooRealVar a3(\"a3\", \"a3\", 0.09, 0.05, 0.4);\n",
    "RooRealVar a4(\"a4\", \"a4\", 0.0, 0.2, 0.8);\n",
    "RooRealVar a5(\"a5\", \"a5\", 0.09, 0.05, 0.5);\n",
    "a4.setConstant();\n",
    "a3.setConstant();\n",
    "a2.setConstant();\n",
    "\n",
    "RooBernstein bernstein(\"bernstein\", \"bernstein PDF 5 coefficients\", x, RooArgSet(a1, a2, a3, a4, a5));"
   ]
  },
  {
   "cell_type": "markdown",
   "metadata": {},
   "source": [
    "### Step 2: Create a signal model (Gaussian)"
   ]
  },
  {
   "cell_type": "code",
   "execution_count": 4,
   "metadata": {},
   "outputs": [
    {
     "name": "stdout",
     "output_type": "stream",
     "text": [
      "[#0] WARNING:InputArguments -- The parameter 'sigma' with range [-10, 50] of the RooGaussian 'gauss' exceeds the safe range of (0, inf). Advise to limit its range.\n"
     ]
    }
   ],
   "source": [
    "RooRealVar mean(\"mean\", \"mean\", 10, -100, 50);\n",
    "RooRealVar sigma(\"sigma\", \"sigma\", 5, -10, 50);\n",
    "RooGaussian gauss(\"gauss\", \"Gaussian signal model\", x, mean, sigma);"
   ]
  },
  {
   "cell_type": "markdown",
   "metadata": {},
   "source": [
    "### Step 3: Create a sum model"
   ]
  },
  {
   "cell_type": "code",
   "execution_count": 5,
   "metadata": {},
   "outputs": [],
   "source": [
    "RooRealVar fracSig(\"sigFrac\", \"Number of signal events\", 0.1, 0, 1);\n",
    "RooAddPdf model(\"model\", \"Gauss signal + Bernstein background\", RooArgSet(gauss, bernstein), RooArgSet(fracSig));"
   ]
  },
  {
   "cell_type": "markdown",
   "metadata": {},
   "source": [
    "We save the initial parameters of the model, so we can reuse them later"
   ]
  },
  {
   "cell_type": "code",
   "execution_count": 6,
   "metadata": {},
   "outputs": [],
   "source": [
    "RooArgSet parameters(a1, a2, a3, a4, a5, mean, sigma, fracSig);\n",
    "RooArgSet* initialParameters = parameters.snapshot();"
   ]
  },
  {
   "cell_type": "markdown",
   "metadata": {},
   "source": [
    "# Generate data and fit model\n",
    "We create a dataset by sampling events from the model"
   ]
  },
  {
   "cell_type": "code",
   "execution_count": 7,
   "metadata": {},
   "outputs": [],
   "source": [
    "auto dataSet = model.generate(x, 1000000);"
   ]
  },
  {
   "cell_type": "markdown",
   "metadata": {},
   "source": [
    "# Let's run some fits\n",
    "\n",
    "### 1. Run fit with classic RooFit computation\n",
    "We first load the initial parameters (so that all fits start from the same point), and then we fit the model with 2 cores (SWAN doesn't provide more).\n",
    "Note that the fitter often chooses a parameter point with negative sigma, where the model is undefined. It prints a message, but it recovers and finishes the fit.\n",
    "\n",
    "After the fit, we print the parameters and the execution time of the cell."
   ]
  },
  {
   "cell_type": "code",
   "execution_count": 8,
   "metadata": {},
   "outputs": [
    {
     "name": "stdout",
     "output_type": "stream",
     "text": [
      "[#1] INFO:Minization -- RooMinimizer::optimizeConst: activating const optimization\n",
      "[#1] INFO:Eval -- RooAbsTestStatistic::initMPMode: started 2 remote server process.\n",
      "[#1] INFO:Minization --  The following expressions will be evaluated in cache-and-track mode: (gauss,bernstein)\n",
      "[#1] INFO:Minization --  The following expressions will be evaluated in cache-and-track mode: (gauss,bernstein)\n",
      "RooMinimizerFcn: Minimized function has error status.\n",
      "Returning maximum FCN so far (4.90896e+06) to force MIGRAD to back out of this region. Error log follows.\n",
      "Parameter values: \ta1=0.8\ta5=0.09\tmean=10\tsigFrac=0.1\tsigma=-0.644826\n",
      "PID612/RooRealMPFE::nll_model_modelData_7f90414a78a0_MPFE1[ arg=nll_model_modelData_GOF1 vars=(a1,a2,a3,a4,a5,mean,sigFrac,sigma) ]\n",
      "     p.d.f value is Not-a-Number @ !refCoefNorm=(), !pdfs=(gauss = 0/-1.61634,bernstein = 0.173668/35.4), !coefficients=(sigFrac = 0.1)\n",
      "     getLogVal() top-level p.d.f evaluates to NaN @ !refCoefNorm=(), !pdfs=(gauss = 0/-1.61634,bernstein = 0.173668/35.4), !coefficients=(sigFrac = 0.1)\n",
      "     p.d.f value is Not-a-Number @ !refCoefNorm=(), !pdfs=(gauss = 0/-1.61634,bernstein = 0.730556/35.4), !coefficients=(sigFrac = 0.1)\n",
      "     getLogVal() top-level p.d.f evaluates to NaN @ !refCoefNorm=(), !pdfs=(gauss = 0/-1.61634,bernstein = 0.730556/35.4), !coefficients=(sigFrac = 0.1)\n",
      "     p.d.f value is Not-a-Number @ !refCoefNorm=(), !pdfs=(gauss = 1.15492e-09/-1.61634,bernstein = 0.134361/35.4), !coefficients=(sigFrac = 0.1)\n",
      "     getLogVal() top-level p.d.f evaluates to NaN @ !refCoefNorm=(), !pdfs=(gauss = 1.15492e-09/-1.61634,bernstein = 0.134361/35.4), !coefficients=(sigFrac = 0.1)\n",
      "     p.d.f value is Not-a-Number @ !refCoefNorm=(), !pdfs=(gauss = 4.94356e-31/-1.61634,bernstein = 0.133765/35.4), !coefficients=(sigFrac = 0.1)\n",
      "     getLogVal() top-level p.d.f evaluates to NaN @ !refCoefNorm=(), !pdfs=(gauss = 4.94356e-31/-1.61634,bernstein = 0.133765/35.4), !coefficients=(sigFrac = 0.1)\n",
      "     p.d.f value is Not-a-Number @ !refCoefNorm=(), !pdfs=(gauss = 0/-1.61634,bernstein = 0.671426/35.4), !coefficients=(sigFrac = 0.1)\n",
      "     getLogVal() top-level p.d.f evaluates to NaN @ !refCoefNorm=(), !pdfs=(gauss = 0/-1.61634,bernstein = 0.671426/35.4), !coefficients=(sigFrac = 0.1)\n",
      "     p.d.f value is Not-a-Number @ !refCoefNorm=(), !pdfs=(gauss = 1.04791e-29/-1.61634,bernstein = 0.134529/35.4), !coefficients=(sigFrac = 0.1)\n",
      "     getLogVal() top-level p.d.f evaluates to NaN @ !refCoefNorm=(), !pdfs=(gauss = 1.04791e-29/-1.61634,bernstein = 0.134529/35.4), !coefficients=(sigFrac = 0.1)\n",
      "    ... (remaining 12278 messages suppressed)\n",
      "RooNLLVar::nll_model_modelData[ paramSet=(a1,a2,a3,a4,a5,mean,sigFrac,sigma) ]\n",
      "     function value is NAN @ paramSet=(a1 = 0.8,a2 = 0,a3 = 0.09,a4 = 0.2,a5 = 0.09,mean = 10,sigFrac = 0.1,sigma = -0.644826)\n",
      "\n",
      "[#1] INFO:Minization -- RooMinimizer::optimizeConst: deactivating const optimization\n",
      "  1) RooRealVar::      a1 = 0.802452 +/- 0.00394348\n",
      "  2) RooRealVar::      a2 = 0\n",
      "  3) RooRealVar::      a3 = 0.09\n",
      "  4) RooRealVar::      a4 = 0.2\n",
      "  5) RooRealVar::      a5 = 0.0896544 +/- 0.000895057\n",
      "  6) RooRealVar::    mean = 10.0107 +/- 0.0251214\n",
      "  7) RooRealVar::   sigma = 4.95715 +/- 0.0251744\n",
      "  8) RooRealVar:: sigFrac = 0.100132 +/- 0.000506238\n",
      "Time: 41.95892143249512 seconds.\n",
      "\n"
     ]
    }
   ],
   "source": [
    "%%time\n",
    "parameters = *initialParameters;\n",
    "model.fitTo(*dataSet, RooFit::PrintLevel(-1),\n",
    "            RooFit::NumCPU(2));\n",
    "parameters.Print(\"V\");"
   ]
  },
  {
   "cell_type": "markdown",
   "metadata": {},
   "source": [
    "### 2. Run same fit with fast batch evaluation\n",
    "Using `BatchMode(true)`, we switch to the faster batch computation interface.\n",
    "\n",
    "Compare the post-fit parameters with above, and see the difference in execution time.\n",
    "The parameters are virtually identical, but the fit is *a lot* faster."
   ]
  },
  {
   "cell_type": "code",
   "execution_count": 9,
   "metadata": {},
   "outputs": [
    {
     "name": "stdout",
     "output_type": "stream",
     "text": [
      "[#1] INFO:Minization -- RooMinimizer::optimizeConst: activating const optimization\n",
      "[#1] INFO:Eval -- RooAbsTestStatistic::initMPMode: started 2 remote server process.\n",
      "RooMinimizerFcn: Minimized function has error status.\n",
      "Returning maximum FCN so far (4.90896e+06) to force MIGRAD to back out of this region. Error log follows.\n",
      "Parameter values: \ta1=0.8\ta5=0.09\tmean=10\tsigFrac=0.1\tsigma=-0.644826\n",
      "PID614/RooRealMPFE::nll_model_modelData_7f9040f673a0_MPFE1[ arg=nll_model_modelData_GOF1 vars=(a1,a2,a3,a4,a5,mean,sigFrac,sigma) ]\n",
      "     p.d.f normalization integral is zero or negative.\n",
      "\tInt(gauss) = -1.616338 @ x=x=-25, mean=mean=10, sigma=sigma=-0.644826\n",
      "     p.d.f normalization integral is zero or negative.\n",
      "\tInt(gauss) = -1.616338 @ x=x=-25, mean=mean=10, sigma=sigma=-0.644826\n",
      "\n",
      "[#1] INFO:Minization -- RooMinimizer::optimizeConst: deactivating const optimization\n",
      "  1) RooRealVar::      a1 = 0.802452 +/- 0.00394348\n",
      "  2) RooRealVar::      a2 = 0\n",
      "  3) RooRealVar::      a3 = 0.09\n",
      "  4) RooRealVar::      a4 = 0.2\n",
      "  5) RooRealVar::      a5 = 0.0896544 +/- 0.000895057\n",
      "  6) RooRealVar::    mean = 10.0107 +/- 0.0251214\n",
      "  7) RooRealVar::   sigma = 4.95715 +/- 0.0251744\n",
      "  8) RooRealVar:: sigFrac = 0.100132 +/- 0.000506238\n",
      "Time: 4.525524377822876 seconds.\n",
      "\n"
     ]
    }
   ],
   "source": [
    "%%time\n",
    "parameters = *initialParameters;\n",
    "model.fitTo(*dataSet, RooFit::PrintLevel(-1),\n",
    "            RooFit::NumCPU(2),\n",
    "            RooFit::BatchMode(true));\n",
    "parameters.Print(\"V\");"
   ]
  },
  {
   "cell_type": "markdown",
   "metadata": {},
   "source": [
    "### 3. Repeat above comparisons with only one CPU"
   ]
  },
  {
   "cell_type": "code",
   "execution_count": 10,
   "metadata": {},
   "outputs": [
    {
     "name": "stdout",
     "output_type": "stream",
     "text": [
      "[#1] INFO:Minization -- RooMinimizer::optimizeConst: activating const optimization\n",
      "[#1] INFO:Minization --  The following expressions will be evaluated in cache-and-track mode: (gauss,bernstein)\n",
      "RooMinimizerFcn: Minimized function has error status.\n",
      "Returning maximum FCN so far (4.90896e+06) to force MIGRAD to back out of this region. Error log follows.\n",
      "Parameter values: \ta1=0.8\ta5=0.09\tmean=10\tsigFrac=0.1\tsigma=-0.644826\n",
      "RooNLLVar::nll_model_modelData[ paramSet=(a1,a2,a3,a4,a5,mean,sigFrac,sigma) ]\n",
      "     function value is NAN @ paramSet=(a1 = 0.8,a2 = 0,a3 = 0.09,a4 = 0.2,a5 = 0.09,mean = 10,sigFrac = 0.1,sigma = -0.644826)\n",
      "RooGaussian::gauss[ x=x mean=mean sigma=sigma ]\n",
      "     p.d.f normalization integral is zero or negative: -1.616338 @ x=x=-99.8885, mean=mean=10, sigma=sigma=-0.644826\n",
      "     p.d.f normalization integral is zero or negative: -1.616338 @ x=x=-79.724, mean=mean=10, sigma=sigma=-0.644826\n",
      "     p.d.f normalization integral is zero or negative: -1.616338 @ x=x=13.9811, mean=mean=10, sigma=sigma=-0.644826\n",
      "     p.d.f normalization integral is zero or negative: -1.616338 @ x=x=-29.2445, mean=mean=10, sigma=sigma=-0.644826\n",
      "     p.d.f normalization integral is zero or negative: -1.616338 @ x=x=-54.1145, mean=mean=10, sigma=sigma=-0.644826\n",
      "     p.d.f normalization integral is zero or negative: -1.616338 @ x=x=-98.9415, mean=mean=10, sigma=sigma=-0.644826\n",
      "     p.d.f normalization integral is zero or negative: -1.616338 @ x=x=-85.5361, mean=mean=10, sigma=sigma=-0.644826\n",
      "     p.d.f normalization integral is zero or negative: -1.616338 @ x=x=-91.1247, mean=mean=10, sigma=sigma=-0.644826\n",
      "     p.d.f normalization integral is zero or negative: -1.616338 @ x=x=-72.7476, mean=mean=10, sigma=sigma=-0.644826\n",
      "     p.d.f normalization integral is zero or negative: -1.616338 @ x=x=-95.8056, mean=mean=10, sigma=sigma=-0.644826\n",
      "     p.d.f normalization integral is zero or negative: -1.616338 @ x=x=-74.2159, mean=mean=10, sigma=sigma=-0.644826\n",
      "     p.d.f normalization integral is zero or negative: -1.616338 @ x=x=46.8013, mean=mean=10, sigma=sigma=-0.644826\n",
      "    ... (remaining 2038 messages suppressed)\n",
      "RooAddPdf::model[ sigFrac * gauss + [%] * bernstein ]\n",
      "     p.d.f value is Not-a-Number @ !refCoefNorm=(), !pdfs=(gauss = 0/-1.61634,bernstein = 0.681428/35.4), !coefficients=(sigFrac = 0.1)\n",
      "     getLogVal() top-level p.d.f evaluates to NaN @ !refCoefNorm=(), !pdfs=(gauss = 0/-1.61634,bernstein = 0.681428/35.4), !coefficients=(sigFrac = 0.1)\n",
      "     p.d.f value is Not-a-Number @ !refCoefNorm=(), !pdfs=(gauss = 0/-1.61634,bernstein = 0.133859/35.4), !coefficients=(sigFrac = 0.1)\n",
      "     getLogVal() top-level p.d.f evaluates to NaN @ !refCoefNorm=(), !pdfs=(gauss = 0/-1.61634,bernstein = 0.133859/35.4), !coefficients=(sigFrac = 0.1)\n",
      "     p.d.f value is Not-a-Number @ !refCoefNorm=(), !pdfs=(gauss = 0/-1.61634,bernstein = 0.722554/35.4), !coefficients=(sigFrac = 0.1)\n",
      "     getLogVal() top-level p.d.f evaluates to NaN @ !refCoefNorm=(), !pdfs=(gauss = 0/-1.61634,bernstein = 0.722554/35.4), !coefficients=(sigFrac = 0.1)\n",
      "     p.d.f value is Not-a-Number @ !refCoefNorm=(), !pdfs=(gauss = 0/-1.61634,bernstein = 0.658331/35.4), !coefficients=(sigFrac = 0.1)\n",
      "     getLogVal() top-level p.d.f evaluates to NaN @ !refCoefNorm=(), !pdfs=(gauss = 0/-1.61634,bernstein = 0.658331/35.4), !coefficients=(sigFrac = 0.1)\n",
      "     p.d.f value is Not-a-Number @ !refCoefNorm=(), !pdfs=(gauss = 4.95784e-133/-1.61634,bernstein = 0.131009/35.4), !coefficients=(sigFrac = 0.1)\n",
      "     getLogVal() top-level p.d.f evaluates to NaN @ !refCoefNorm=(), !pdfs=(gauss = 4.95784e-133/-1.61634,bernstein = 0.131009/35.4), !coefficients=(sigFrac = 0.1)\n",
      "     p.d.f value is Not-a-Number @ !refCoefNorm=(), !pdfs=(gauss = 0/-1.61634,bernstein = 0.400453/35.4), !coefficients=(sigFrac = 0.1)\n",
      "     getLogVal() top-level p.d.f evaluates to NaN @ !refCoefNorm=(), !pdfs=(gauss = 0/-1.61634,bernstein = 0.400453/35.4), !coefficients=(sigFrac = 0.1)\n",
      "    ... (remaining 2038 messages suppressed)\n",
      "\n",
      "[#1] INFO:Minization -- RooMinimizer::optimizeConst: deactivating const optimization\n",
      "Time: 72.38800597190857 seconds.\n",
      "\n"
     ]
    }
   ],
   "source": [
    "%%time\n",
    "parameters = *initialParameters;\n",
    "model.fitTo(*dataSet, RooFit::PrintLevel(-1));"
   ]
  },
  {
   "cell_type": "code",
   "execution_count": 11,
   "metadata": {},
   "outputs": [
    {
     "name": "stdout",
     "output_type": "stream",
     "text": [
      "[#1] INFO:Minization -- RooMinimizer::optimizeConst: activating const optimization\n",
      "RooMinimizerFcn: Minimized function has error status.\n",
      "Returning maximum FCN so far (4.90896e+06) to force MIGRAD to back out of this region. Error log follows.\n",
      "Parameter values: \ta1=0.8\ta5=0.09\tmean=10\tsigFrac=0.1\tsigma=-0.644826\n",
      "RooGaussian::gauss[ x=x mean=mean sigma=sigma ]\n",
      "     p.d.f normalization integral is zero or negative.\n",
      "\tInt(gauss) = -1.616338 @ x=x=-25, mean=mean=10, sigma=sigma=-0.644826\n",
      "\n",
      "[#1] INFO:Minization -- RooMinimizer::optimizeConst: deactivating const optimization\n",
      "Time: 5.621582746505737 seconds.\n",
      "\n"
     ]
    }
   ],
   "source": [
    "%%time\n",
    "parameters = *initialParameters;\n",
    "model.fitTo(*dataSet, RooFit::PrintLevel(-1),\n",
    "            RooFit::BatchMode(true));"
   ]
  },
  {
   "cell_type": "markdown",
   "metadata": {},
   "source": [
    "## Plot post-fit model\n",
    "Let's use jsroot to compare data and post-fit model.\n",
    "Note that one should always plot the data first, so RooFit adjusts the normalisation of the PDF to match the data."
   ]
  },
  {
   "cell_type": "code",
   "execution_count": 12,
   "metadata": {
    "scrolled": false
   },
   "outputs": [
    {
     "data": {
      "text/html": [
       "\n",
       "\n",
       "<div id=\"root_plot_1610998112559\"\n",
       "     style=\"width: 696px; height: 472px\">\n",
       "</div>\n",
       "<script>\n",
       "if (typeof require !== 'undefined') {\n",
       "\n",
       "    // We are in jupyter notebooks, use require.js which should be configured already\n",
       "    require(['scripts/JSRoot.core'],\n",
       "        function(Core) {\n",
       "           display_root_plot_1610998112559(Core);\n",
       "        }\n",
       "    );\n",
       "\n",
       "} else if (typeof JSROOT !== 'undefined') {\n",
       "\n",
       "   // JSROOT already loaded, just use it\n",
       "   display_root_plot_1610998112559(JSROOT);\n",
       "\n",
       "} else {\n",
       "\n",
       "    // We are in jupyterlab without require.js, directly loading jsroot\n",
       "    // Jupyterlab might be installed in a different base_url so we need to know it.\n",
       "    try {\n",
       "        var base_url = JSON.parse(document.getElementById('jupyter-config-data').innerHTML).baseUrl;\n",
       "    } catch(_) {\n",
       "        var base_url = '/';\n",
       "    }\n",
       "\n",
       "    // Try loading a local version of requirejs and fallback to cdn if not possible.\n",
       "    script_load(base_url + 'static/scripts/JSRoot.core.js', script_success, function(){\n",
       "        console.error('Fail to load JSROOT locally, please check your jupyter_notebook_config.py file')\n",
       "        script_load('https://root.cern/js/5.9.0/scripts/JSRootCore.min.js', script_success, function(){\n",
       "            document.getElementById(\"root_plot_1610998112559\").innerHTML = \"Failed to load JSROOT\";\n",
       "        });\n",
       "    });\n",
       "}\n",
       "\n",
       "function script_load(src, on_load, on_error) {\n",
       "    var script = document.createElement('script');\n",
       "    script.src = src;\n",
       "    script.onload = on_load;\n",
       "    script.onerror = on_error;\n",
       "    document.head.appendChild(script);\n",
       "}\n",
       "\n",
       "function script_success() {\n",
       "   display_root_plot_1610998112559(JSROOT);\n",
       "}\n",
       "\n",
       "function display_root_plot_1610998112559(Core) {\n",
       "   var obj = Core.parse({\"_typename\":\"TCanvas\",\"fUniqueID\":0,\"fBits\":3342344,\"fLineColor\":1,\"fLineStyle\":1,\"fLineWidth\":1,\"fFillColor\":0,\"fFillStyle\":1001,\"fLeftMargin\":0.1,\"fRightMargin\":0.1,\"fBottomMargin\":0.1,\"fTopMargin\":0.1,\"fXfile\":2,\"fYfile\":2,\"fAfile\":1,\"fXstat\":0.99,\"fYstat\":0.99,\"fAstat\":2,\"fFrameFillColor\":0,\"fFrameLineColor\":1,\"fFrameFillStyle\":1001,\"fFrameLineStyle\":1,\"fFrameLineWidth\":1,\"fFrameBorderSize\":1,\"fFrameBorderMode\":0,\"fX1\":-118.750001396984,\"fY1\":-4008.76447935402,\"fX2\":68.7500013969839,\"fY2\":36078.8779247764,\"fXtoAbsPixelk\":440.800048617172,\"fXtoPixelk\":440.800048617172,\"fXtoPixel\":3.71199994468689,\"fYtoAbsPixelk\":424.800047186661,\"fYtoPixelk\":424.800047186661,\"fYtoPixel\":-0.0117742020157156,\"fUtoAbsPixelk\":5e-5,\"fUtoPixelk\":5e-5,\"fUtoPixel\":696,\"fVtoAbsPixelk\":472.00005,\"fVtoPixelk\":472,\"fVtoPixel\":-472,\"fAbsPixeltoXk\":-118.750001396984,\"fPixeltoXk\":-118.750001396984,\"fPixeltoX\":0.26939655573846,\"fAbsPixeltoYk\":36078.8779247764,\"fPixeltoYk\":-4008.76447935402,\"fPixeltoY\":-84.9314457714627,\"fXlowNDC\":0,\"fYlowNDC\":0,\"fXUpNDC\":1,\"fYUpNDC\":1,\"fWNDC\":1,\"fHNDC\":1,\"fAbsXlowNDC\":0,\"fAbsYlowNDC\":0,\"fAbsWNDC\":1,\"fAbsHNDC\":1,\"fUxmin\":-100,\"fUymin\":0,\"fUxmax\":50,\"fUymax\":32070.1134454224,\"fTheta\":30,\"fPhi\":30,\"fAspectRatio\":0,\"fNumber\":0,\"fTickx\":0,\"fTicky\":0,\"fLogx\":0,\"fLogy\":0,\"fLogz\":0,\"fPadPaint\":0,\"fCrosshair\":0,\"fCrosshairPos\":0,\"fBorderSize\":2,\"fBorderMode\":0,\"fModified\":false,\"fGridx\":false,\"fGridy\":false,\"fAbsCoord\":false,\"fEditable\":true,\"fFixedAspectRatio\":false,\"fPrimitives\":{\"_typename\":\"TList\",\"name\":\"TList\",\"arr\":[{\"_typename\":\"TFrame\",\"fUniqueID\":0,\"fBits\":8,\"fLineColor\":1,\"fLineStyle\":1,\"fLineWidth\":1,\"fFillColor\":0,\"fFillStyle\":1001,\"fX1\":-100,\"fY1\":0,\"fX2\":50,\"fY2\":32070.1134454224,\"fBorderSize\":1,\"fBorderMode\":0},{\"_typename\":\"TH1D\",\"fUniqueID\":0,\"fBits\":520,\"fName\":\"frame_7f9041dae670\",\"fTitle\":\"A RooPlot of \\\"x\\\"\",\"fLineColor\":602,\"fLineStyle\":1,\"fLineWidth\":1,\"fFillColor\":0,\"fFillStyle\":1001,\"fMarkerColor\":1,\"fMarkerStyle\":1,\"fMarkerSize\":1,\"fNcells\":102,\"fXaxis\":{\"_typename\":\"TAxis\",\"fUniqueID\":0,\"fBits\":0,\"fName\":\"xaxis\",\"fTitle\":\"x\",\"fNdivisions\":510,\"fAxisColor\":1,\"fLabelColor\":1,\"fLabelFont\":42,\"fLabelOffset\":0.005,\"fLabelSize\":0.035,\"fTickLength\":0.03,\"fTitleOffset\":1,\"fTitleSize\":0.035,\"fTitleColor\":1,\"fTitleFont\":42,\"fNbins\":100,\"fXmin\":-100,\"fXmax\":50,\"fXbins\":[],\"fFirst\":0,\"fLast\":0,\"fBits2\":0,\"fTimeDisplay\":false,\"fTimeFormat\":\"\",\"fLabels\":null,\"fModLabs\":null},\"fYaxis\":{\"_typename\":\"TAxis\",\"fUniqueID\":0,\"fBits\":0,\"fName\":\"yaxis\",\"fTitle\":\"Events \\/ ( 1.5 )\",\"fNdivisions\":510,\"fAxisColor\":1,\"fLabelColor\":1,\"fLabelFont\":42,\"fLabelOffset\":0.005,\"fLabelSize\":0.035,\"fTickLength\":0.03,\"fTitleOffset\":0,\"fTitleSize\":0.035,\"fTitleColor\":1,\"fTitleFont\":42,\"fNbins\":1,\"fXmin\":0,\"fXmax\":1,\"fXbins\":[],\"fFirst\":0,\"fLast\":0,\"fBits2\":0,\"fTimeDisplay\":false,\"fTimeFormat\":\"\",\"fLabels\":null,\"fModLabs\":null},\"fZaxis\":{\"_typename\":\"TAxis\",\"fUniqueID\":0,\"fBits\":0,\"fName\":\"zaxis\",\"fTitle\":\"\",\"fNdivisions\":510,\"fAxisColor\":1,\"fLabelColor\":1,\"fLabelFont\":42,\"fLabelOffset\":0.005,\"fLabelSize\":0.035,\"fTickLength\":0.03,\"fTitleOffset\":1,\"fTitleSize\":0.035,\"fTitleColor\":1,\"fTitleFont\":42,\"fNbins\":1,\"fXmin\":0,\"fXmax\":1,\"fXbins\":[],\"fFirst\":0,\"fLast\":0,\"fBits2\":0,\"fTimeDisplay\":false,\"fTimeFormat\":\"\",\"fLabels\":null,\"fModLabs\":null},\"fBarOffset\":0,\"fBarWidth\":1000,\"fEntries\":2,\"fTsumw\":0,\"fTsumw2\":0,\"fTsumwx\":0,\"fTsumwx2\":0,\"fMaximum\":32070.1134454224,\"fMinimum\":-1111,\"fNormFactor\":0,\"fContour\":[],\"fSumw2\":[],\"fOption\":\"\",\"fFunctions\":{\"_typename\":\"TList\",\"name\":\"TList\",\"arr\":[],\"opt\":[]},\"fBufferSize\":0,\"fBuffer\":[],\"fBinStatErrOpt\":0,\"fStatOverflows\":2,\"fArray\":[0,32070.1134454224,0,0,0,0,0,0,0,0,0,0,0,0,0,0,0,0,0,0,0,0,0,0,0,0,0,0,0,0,0,0,0,0,0,0,0,0,0,0,0,0,0,0,0,0,0,0,0,0,0,0,0,0,0,0,0,0,0,0,0,0,0,0,0,0,0,0,0,0,0,0,0,0,0,0,0,0,0,0,0,0,0,0,0,0,0,0,0,0,0,0,0,0,0,0,0,0,0,0,0,0]},{\"_typename\":\"RooHist\",\"fUniqueID\":0,\"fBits\":1032,\"fName\":\"h_modelData\",\"fTitle\":\"Histogram of modelData_plot__x\",\"fLineColor\":1,\"fLineStyle\":1,\"fLineWidth\":1,\"fFillColor\":0,\"fFillStyle\":1000,\"fMarkerColor\":1,\"fMarkerStyle\":8,\"fMarkerSize\":1,\"fNpoints\":100,\"fX\":[-99.25,-97.75,-96.25,-94.75,-93.25,-91.75,-90.25,-88.75,-87.25,-85.75,-84.25,-82.75,-81.25,-79.75,-78.25,-76.75,-75.25,-73.75,-72.25,-70.75,-69.25,-67.75,-66.25,-64.75,-63.25,-61.75,-60.25,-58.75,-57.25,-55.75,-54.25,-52.75,-51.25,-49.75,-48.25,-46.75,-45.25,-43.75,-42.25,-40.75,-39.25,-37.75,-36.25,-34.75,-33.25,-31.75,-30.25,-28.75,-27.25,-25.75,-24.25,-22.75,-21.25,-19.75,-18.25,-16.75,-15.25,-13.75,-12.25,-10.75,-9.25,-7.75,-6.25,-4.75,-3.25,-1.75,-0.25,1.25,2.75,4.25,5.75,7.25,8.75,10.25,11.75,13.25,14.75,16.25,17.75,19.25,20.75,22.25,23.75,25.25,26.75,28.25,29.75,31.25,32.75,34.25,35.75,37.25,38.75,40.25,41.75,43.25,44.75,46.25,47.75,49.25],\"fY\":[30002,28554,27791,26464,25583,24400,23358,22546,21523,20649,19853,18954,18343,17319,16743,15972,15232,14631,14069,13436,12847,12374,11904,11408,10856,10668,10167,9855,9320,9043,8816,8282,8288,7848,7758,7293,7286,6789,6698,6501,6333,6229,5847,5848,5833,5504,5514,5429,5551,5346,5211,5245,5232,5093,5079,5052,5030,4947,5024,4940,5187,5042,4998,5165,5380,5862,6514,7728,9237,11112,13422,15427,16964,17243,16519,14653,12736,10638,8744,7243,6329,5560,5407,5156,5049,4874,4989,4799,4626,4742,4584,4588,4303,4442,4246,4088,3873,3784,3617,3420],\"fFunctions\":{\"_typename\":\"TList\",\"name\":\"TList\",\"arr\":[],\"opt\":[]},\"fHistogram\":{\"_typename\":\"TH1F\",\"fUniqueID\":0,\"fBits\":512,\"fName\":\"h_modelData\",\"fTitle\":\"Histogram of modelData_plot__x\",\"fLineColor\":602,\"fLineStyle\":1,\"fLineWidth\":1,\"fFillColor\":0,\"fFillStyle\":1001,\"fMarkerColor\":1,\"fMarkerStyle\":1,\"fMarkerSize\":1,\"fNcells\":102,\"fXaxis\":{\"_typename\":\"TAxis\",\"fUniqueID\":0,\"fBits\":0,\"fName\":\"xaxis\",\"fTitle\":\"\",\"fNdivisions\":510,\"fAxisColor\":1,\"fLabelColor\":1,\"fLabelFont\":42,\"fLabelOffset\":0.005,\"fLabelSize\":0.035,\"fTickLength\":0.03,\"fTitleOffset\":1,\"fTitleSize\":0.035,\"fTitleColor\":1,\"fTitleFont\":42,\"fNbins\":100,\"fXmin\":-115,\"fXmax\":65,\"fXbins\":[],\"fFirst\":0,\"fLast\":0,\"fBits2\":0,\"fTimeDisplay\":false,\"fTimeFormat\":\"\",\"fLabels\":null,\"fModLabs\":null},\"fYaxis\":{\"_typename\":\"TAxis\",\"fUniqueID\":0,\"fBits\":0,\"fName\":\"yaxis\",\"fTitle\":\"\",\"fNdivisions\":510,\"fAxisColor\":1,\"fLabelColor\":1,\"fLabelFont\":42,\"fLabelOffset\":0.005,\"fLabelSize\":0.035,\"fTickLength\":0.03,\"fTitleOffset\":0,\"fTitleSize\":0.035,\"fTitleColor\":1,\"fTitleFont\":42,\"fNbins\":1,\"fXmin\":680.647648584273,\"fXmax\":32857.0810237567,\"fXbins\":[],\"fFirst\":0,\"fLast\":0,\"fBits2\":0,\"fTimeDisplay\":false,\"fTimeFormat\":\"\",\"fLabels\":null,\"fModLabs\":null},\"fZaxis\":{\"_typename\":\"TAxis\",\"fUniqueID\":0,\"fBits\":0,\"fName\":\"zaxis\",\"fTitle\":\"\",\"fNdivisions\":510,\"fAxisColor\":1,\"fLabelColor\":1,\"fLabelFont\":42,\"fLabelOffset\":0.005,\"fLabelSize\":0.035,\"fTickLength\":0.03,\"fTitleOffset\":1,\"fTitleSize\":0.035,\"fTitleColor\":1,\"fTitleFont\":42,\"fNbins\":1,\"fXmin\":0,\"fXmax\":1,\"fXbins\":[],\"fFirst\":0,\"fLast\":0,\"fBits2\":0,\"fTimeDisplay\":false,\"fTimeFormat\":\"\",\"fLabels\":null,\"fModLabs\":null},\"fBarOffset\":0,\"fBarWidth\":1000,\"fEntries\":0,\"fTsumw\":0,\"fTsumw2\":0,\"fTsumwx\":0,\"fTsumwx2\":0,\"fMaximum\":32857.0810237567,\"fMinimum\":680.647648584273,\"fNormFactor\":0,\"fContour\":[],\"fSumw2\":[],\"fOption\":\"\",\"fFunctions\":{\"_typename\":\"TList\",\"name\":\"TList\",\"arr\":[],\"opt\":[]},\"fBufferSize\":0,\"fBuffer\":[],\"fBinStatErrOpt\":0,\"fStatOverflows\":2,\"fArray\":[0,0,0,0,0,0,0,0,0,0,0,0,0,0,0,0,0,0,0,0,0,0,0,0,0,0,0,0,0,0,0,0,0,0,0,0,0,0,0,0,0,0,0,0,0,0,0,0,0,0,0,0,0,0,0,0,0,0,0,0,0,0,0,0,0,0,0,0,0,0,0,0,0,0,0,0,0,0,0,0,0,0,0,0,0,0,0,0,0,0,0,0,0,0,0,0,0,0,0,0,0,0]},\"fMinimum\":-1111,\"fMaximum\":-1111,\"fEXlow\":[0.75,0.75,0.75,0.75,0.75,0.75,0.75,0.75,0.75,0.75,0.75,0.75,0.75,0.75,0.75,0.75,0.75,0.75,0.75,0.75,0.75,0.75,0.75,0.75,0.75,0.75,0.75,0.75,0.75,0.75,0.75,0.75,0.75,0.75,0.75,0.75,0.75,0.75,0.75,0.75,0.75,0.75,0.75,0.75,0.75,0.75,0.75,0.75,0.75,0.75,0.75,0.75,0.75,0.75,0.75,0.75,0.75,0.75,0.75,0.75,0.75,0.75,0.75,0.75,0.75,0.75,0.75,0.75,0.75,0.75,0.75,0.75,0.75,0.75,0.75,0.75,0.75,0.75,0.75,0.75,0.75,0.75,0.75,0.75,0.75,0.75,0.75,0.75,0.75,0.75,0.75,0.75,0.75,0.75,0.75,0.75,0.75,0.75,0.75,0.75],\"fEXhigh\":[0.75,0.75,0.75,0.75,0.75,0.75,0.75,0.75,0.75,0.75,0.75,0.75,0.75,0.75,0.75,0.75,0.75,0.75,0.75,0.75,0.75,0.75,0.75,0.75,0.75,0.75,0.75,0.75,0.75,0.75,0.75,0.75,0.75,0.75,0.75,0.75,0.75,0.75,0.75,0.75,0.75,0.75,0.75,0.75,0.75,0.75,0.75,0.75,0.75,0.75,0.75,0.75,0.75,0.75,0.75,0.75,0.75,0.75,0.75,0.75,0.75,0.75,0.75,0.75,0.75,0.75,0.75,0.75,0.75,0.75,0.75,0.75,0.75,0.75,0.75,0.75,0.75,0.75,0.75,0.75,0.75,0.75,0.75,0.75,0.75,0.75,0.75,0.75,0.75,0.75,0.75,0.75,0.75,0.75,0.75,0.75,0.75,0.75,0.75,0.75],\"fEYlow\":[172.711575825637,168.480028405727,166.207078433999,162.178363650488,159.447647685109,155.705793746583,152.334060339967,149.65408752345,146.208043405943,143.198469024552,140.401561382405,137.17443480908,134.937254845187,131.102621554437,128.895710902641,125.881367297558,122.919001778495,120.459704034029,118.113869340816,115.414839429643,112.845710108499,110.739606256046,108.606599250457,106.309409697835,103.693329920874,102.787220893972,100.332782367641,98.7736118009216,96.041441878604,94.5960041221497,93.3948880397656,90.5068678727048,90.5398264497471,88.0903493615415,87.5809286962849,84.9005269304589,84.859533738183,81.896905281691,81.3428371942227,80.1303292812327,79.0817190063144,78.4255978754672,75.9673132782891,75.9738517403175,75.8757160359237,73.6906328319146,73.7579962024292,73.1834445448912,74.0067111071212,72.6180552257783,71.6889880799008,71.9240981994253,71.834293388406,70.8670091849172,70.7688571537383,70.5791811995605,70.4242553714876,69.8366902832367,70.3819441042642,69.7869120107007,71.5225659081934,70.508802271268,70.1983026670368,71.3696737156915,72.8501874571566,76.065331580292,80.2109038482413,87.4104658160786,95.6106133577341,104.914657424857,115.354434528852,123.706481312369,129.746880960734,130.813556040495,128.027234468031,120.550609250842,112.354995458774,102.641892555837,93.0106945755397,84.6072852345787,79.056583637057,74.06708389095,73.0340057388421,71.3070330817254,70.5580748402317,69.3158291507016,70.1346232381829,68.7766194325332,67.516542105579,68.3639963986989,67.2070897321692,67.2366222954761,65.0991615800076,66.1502063012558,64.6632565177642,63.4394244578411,61.7354400643235,61.0162580136339,59.6435782108115,57.9829034846939],\"fEYhigh\":[173.711575825637,169.480028405727,167.207078433999,163.178363650488,160.447647685109,156.705793746583,153.334060339967,150.65408752345,147.208043405943,144.198469024552,141.401561382405,138.17443480908,135.937254845187,132.102621554437,129.895710902641,126.881367297558,123.919001778495,121.459704034029,119.113869340816,116.414839429643,113.845710108499,111.739606256046,109.606599250457,107.309409697835,104.693329920874,103.787220893972,101.332782367641,99.7736118009216,97.041441878604,95.5960041221497,94.3948880397656,91.5068678727057,91.5398264497471,89.0903493615415,88.5809286962849,85.9005269304589,85.859533738183,82.896905281691,82.3428371942227,81.1303292812327,80.0817190063144,79.4255978754672,76.9673132782891,76.9738517403175,76.8757160359237,74.6906328319146,74.7579962024292,74.1834445448912,75.0067111071212,73.6180552257783,72.6889880799008,72.9240981994253,72.834293388406,71.8670091849172,71.7688571537383,71.5791811995605,71.4242553714876,70.8366902832367,71.3819441042642,70.7869120107007,72.5225659081934,71.508802271268,71.1983026670368,72.3696737156915,73.8501874571566,77.065331580292,81.2109038482413,88.4104658160786,96.6106133577341,105.914657424857,116.354434528852,124.706481312369,130.746880960734,131.813556040495,129.027234468031,121.550609250842,113.354995458774,103.641892555837,94.0106945755397,85.6072852345787,80.056583637057,75.06708389095,74.0340057388421,72.3070330817254,71.5580748402317,70.3158291507016,71.1346232381829,69.7766194325332,68.516542105579,69.3639963986989,68.2070897321692,68.2366222954761,66.0991615800076,67.1502063012558,65.6632565177642,64.4394244578416,62.7354400643235,62.0162580136339,60.6435782108115,58.9829034846939],\"_yAxisLabel\":\"Events \\/ ( 1.5 )\",\"_ymin\":0,\"_ymax\":30175.7115758256,\"_normValue\":0,\"_nominalBinWidth\":1.5,\"_nSigma\":1,\"_entries\":1000000,\"_rawEntries\":-1},{\"_typename\":\"RooCurve\",\"fUniqueID\":0,\"fBits\":525320,\"fName\":\"model_Norm[x]\",\"fTitle\":\"Projection of Gauss signal + Bernstein background\",\"fLineColor\":600,\"fLineStyle\":1,\"fLineWidth\":3,\"fFillColor\":0,\"fFillStyle\":1000,\"fMarkerColor\":1,\"fMarkerStyle\":1,\"fMarkerSize\":1,\"fNpoints\":125,\"fX\":[-101.5015,-101.5,-100,-98.5,-97,-95.5,-94,-92.5,-91,-89.5,-88,-86.5,-85,-83.5,-82,-80.5,-79,-77.5,-76,-74.5,-73,-71.5,-70,-68.5,-67,-65.5,-64,-62.5,-61,-59.5,-58,-56.5,-55,-53.5,-52,-50.5,-49,-47.5,-46,-44.5,-43,-41.5,-40,-38.5,-37,-35.5,-34,-32.5,-31,-29.5,-28,-26.5,-25,-23.5,-22,-20.5,-19,-17.5,-16,-14.5,-13,-11.5,-10,-8.5,-7,-5.5,-4,-2.5,-1.75,-1,-0.25,0.5,1.25,2,2.75,3.5,5,6.5,7.25,8,8.375,8.75,9.125,9.5,9.875,10.25,10.625,11,11.375,11.75,12.5,13.25,14,15.5,16.25,17,17.75,18.5,19.25,20,20.75,21.5,22.25,23,24.5,26,27.5,29,30.5,32,33.5,35,36.5,38,39.5,41,42.5,44,45.5,47,48.5,50,50,51.5,51.5015],\"fY\":[0,30542.9651861165,30542.9651861165,29341.495118504,28179.9937007569,27057.6726188449,25973.7493329624,24927.4470775277,23917.9948611838,22944.6274667977,22006.585451461,21103.1151464895,20233.4686574232,19396.9038640267,18592.6844202888,17820.0797544225,17078.3650688654,16366.821340279,15684.7353195497,15031.3995317877,14406.1122763279,13808.1776267293,13236.9054307752,12691.6113104735,12171.6166620561,11676.2486559795,11204.8402369244,10756.7301237957,10331.2628097229,9927.78856205962,9545.66342238387,9184.24920649799,8842.91350442864,8521.02968042683,8217.97687296785,7933.13999475136,7665.90973270132,7415.68254796602,7181.86067591809,6963.85212615448,6761.07068249645,6572.93590298961,6398.8731199039,6238.31343973355,6090.69374319715,5955.45668523761,5832.05069502216,5719.92997594235,5618.55450561409,5527.39003587774,5445.90809279937,5373.58597668228,5309.90676216358,5254.35929894665,5206.4382168347,5165.64395701653,5131.48294772344,5103.46849366694,5081.12482941588,5064.003702239,5051.74507466396,5044.27507350252,5042.37755111815,5049.14254662024,5073.14405816731,5134.33429169716,5272.85371941043,5558.33544680411,5787.01627278834,6092.73471687337,6490.89235692306,6995.59933208708,7617.67930605742,8362.38082268177,9227.05035366764,10199.1139207008,12358.7316690283,14521.5797936724,15470.1887332338,16255.5326814322,16571.2403065239,16828.5361964127,17023.1595216447,17151.8476993941,17212.4276839543,17203.8772747331,17126.3540182612,16981.1905557487,16770.8566013156,16498.8890601611,15788.9176423475,14896.5618445781,13875.6679790129,11674.4665650667,10597.8688500141,9592.61122215297,8686.59683234833,7896.26970104026,7227.57562953952,6677.77192619708,6237.68650568254,5894.05527293877,5631.6461952941,5434.98291703898,5182.73566692495,5044.40479015122,4959.83156609358,4895.64818120401,4835.61817899547,4772.66344701624,4703.92472767392,4628.24646140135,4545.08402666918,4454.09061298629,4354.97969927194,4247.48443164468,4131.3469174257,4006.31569760435,3872.1452106813,3728.59569023552,3575.4331472653,3412.42936743711,3412.42936743711,3412.42936743711,0],\"fFunctions\":{\"_typename\":\"TList\",\"name\":\"TList\",\"arr\":[],\"opt\":[]},\"fHistogram\":{\"_typename\":\"TH1F\",\"fUniqueID\":0,\"fBits\":512,\"fName\":\"model_Norm[x]\",\"fTitle\":\"Projection of Gauss signal + Bernstein background\",\"fLineColor\":602,\"fLineStyle\":1,\"fLineWidth\":1,\"fFillColor\":0,\"fFillStyle\":1001,\"fMarkerColor\":1,\"fMarkerStyle\":1,\"fMarkerSize\":1,\"fNcells\":127,\"fXaxis\":{\"_typename\":\"TAxis\",\"fUniqueID\":0,\"fBits\":0,\"fName\":\"xaxis\",\"fTitle\":\"\",\"fNdivisions\":510,\"fAxisColor\":1,\"fLabelColor\":1,\"fLabelFont\":42,\"fLabelOffset\":0.005,\"fLabelSize\":0.035,\"fTickLength\":0.03,\"fTitleOffset\":1,\"fTitleSize\":0.035,\"fTitleColor\":1,\"fTitleFont\":42,\"fNbins\":125,\"fXmin\":-116.8018,\"fXmax\":66.8018,\"fXbins\":[],\"fFirst\":0,\"fLast\":0,\"fBits2\":0,\"fTimeDisplay\":false,\"fTimeFormat\":\"\",\"fLabels\":null,\"fModLabs\":null},\"fYaxis\":{\"_typename\":\"TAxis\",\"fUniqueID\":0,\"fBits\":0,\"fName\":\"yaxis\",\"fTitle\":\"\",\"fNdivisions\":510,\"fAxisColor\":1,\"fLabelColor\":1,\"fLabelFont\":42,\"fLabelOffset\":0.005,\"fLabelSize\":0.035,\"fTickLength\":0.03,\"fTitleOffset\":0,\"fTitleSize\":0.035,\"fTitleColor\":1,\"fTitleFont\":42,\"fNbins\":1,\"fXmin\":0,\"fXmax\":33597.2617047282,\"fXbins\":[],\"fFirst\":0,\"fLast\":0,\"fBits2\":0,\"fTimeDisplay\":false,\"fTimeFormat\":\"\",\"fLabels\":null,\"fModLabs\":null},\"fZaxis\":{\"_typename\":\"TAxis\",\"fUniqueID\":0,\"fBits\":0,\"fName\":\"zaxis\",\"fTitle\":\"\",\"fNdivisions\":510,\"fAxisColor\":1,\"fLabelColor\":1,\"fLabelFont\":42,\"fLabelOffset\":0.005,\"fLabelSize\":0.035,\"fTickLength\":0.03,\"fTitleOffset\":1,\"fTitleSize\":0.035,\"fTitleColor\":1,\"fTitleFont\":42,\"fNbins\":1,\"fXmin\":0,\"fXmax\":1,\"fXbins\":[],\"fFirst\":0,\"fLast\":0,\"fBits2\":0,\"fTimeDisplay\":false,\"fTimeFormat\":\"\",\"fLabels\":null,\"fModLabs\":null},\"fBarOffset\":0,\"fBarWidth\":1000,\"fEntries\":0,\"fTsumw\":0,\"fTsumw2\":0,\"fTsumwx\":0,\"fTsumwx2\":0,\"fMaximum\":33597.2617047282,\"fMinimum\":0,\"fNormFactor\":0,\"fContour\":[],\"fSumw2\":[],\"fOption\":\"\",\"fFunctions\":{\"_typename\":\"TList\",\"name\":\"TList\",\"arr\":[],\"opt\":[]},\"fBufferSize\":0,\"fBuffer\":[],\"fBinStatErrOpt\":0,\"fStatOverflows\":2,\"fArray\":[0,0,0,0,0,0,0,0,0,0,0,0,0,0,0,0,0,0,0,0,0,0,0,0,0,0,0,0,0,0,0,0,0,0,0,0,0,0,0,0,0,0,0,0,0,0,0,0,0,0,0,0,0,0,0,0,0,0,0,0,0,0,0,0,0,0,0,0,0,0,0,0,0,0,0,0,0,0,0,0,0,0,0,0,0,0,0,0,0,0,0,0,0,0,0,0,0,0,0,0,0,0,0,0,0,0,0,0,0,0,0,0,0,0,0,0,0,0,0,0,0,0,0,0,0,0,0]},\"fMinimum\":-1111,\"fMaximum\":-1111,\"_yAxisLabel\":\"Projection of Gauss signal + Bernstein background\",\"_ymin\":0,\"_ymax\":30542.9651861165,\"_normValue\":0},{\"_typename\":\"RooCurve\",\"fUniqueID\":0,\"fBits\":525320,\"fName\":\"signalOnly\",\"fTitle\":\"Signal Model\",\"fLineColor\":632,\"fLineStyle\":1,\"fLineWidth\":3,\"fFillColor\":0,\"fFillStyle\":1000,\"fMarkerColor\":1,\"fMarkerStyle\":1,\"fMarkerSize\":1,\"fNpoints\":146,\"fX\":[-101.5015,-101.5,-100,-98.5,-97,-95.5,-94,-92.5,-91,-89.5,-88,-86.5,-85,-83.5,-82,-80.5,-79,-77.5,-76,-74.5,-73,-71.5,-70,-68.5,-67,-65.5,-64,-62.5,-61,-59.5,-58,-56.5,-55,-53.5,-52,-50.5,-49,-47.5,-46,-44.5,-43,-41.5,-40,-38.5,-37,-35.5,-34,-32.5,-31,-29.5,-28,-26.5,-25,-23.5,-22,-20.5,-19,-17.5,-16,-14.5,-13,-11.5,-10,-8.5,-7,-5.5,-4.75,-4,-3.25,-2.5,-1.75,-1,-0.625,-0.25,0.125,0.5,0.875,1.25,1.625,2,2.375,2.75,3.125,3.5,4.25,5,5.75,6.5,6.875,7.25,7.625,8,8.375,8.75,9.125,9.5,9.875,10.25,10.625,11,11.375,11.75,12.125,12.5,12.875,13.25,13.625,14,15.5,16.25,17,17.375,17.75,18.125,18.5,18.875,19.25,19.625,20,20.375,20.75,21.5,22.25,23,23.75,24.5,26,27.5,29,30.5,32,33.5,35,36.5,38,39.5,41,42.5,44,45.5,47,48.5,50,50,51.5,51.5015],\"fY\":[0,1.37175919229774e-103,1.37175919229774e-103,1.08092276873262e-100,7.77224073390261e-98,5.09955893808038e-95,3.05318964056694e-92,1.66805258571245e-89,8.31573207373328e-87,3.78291019762596e-84,1.57031351358948e-81,5.94814432183816e-79,2.05594465579617e-76,6.48449462851712e-74,1.86627501939279e-71,4.90128485761397e-69,1.1745703617301e-66,2.56851984109199e-64,5.12532730406678e-62,9.33243722881254e-60,1.55061272333539e-57,2.35096628952313e-55,3.25255203628798e-53,4.10616973728009e-51,4.73025262428019e-49,4.9724058152243e-47,4.76961790462532e-45,4.17479740855967e-43,3.33443314566168e-41,2.43020783369816e-39,1.61621678027599e-37,9.8082290532604e-36,5.43145743385147e-34,2.74458669806992e-32,1.26552963904656e-30,5.32478995004254e-29,2.04440734792164e-27,7.16254195284919e-26,2.28982196624427e-24,6.67991672902551e-23,1.77817775530707e-21,4.31930717025884e-20,9.57387604944039e-19,1.93640548269436e-17,3.57387698455596e-16,6.01890777253547e-15,9.24976226243011e-14,1.29711429486164e-12,1.65981892985068e-11,1.93810799924676e-10,2.0650474144302e-9,2.0077834696377e-8,1.78130593062582e-7,1.44209857032196e-6,1.06533494194159e-5,7.18145080887255e-5,4.41746382046067e-4,0.00247952565088864,0.0126998620221637,0.0593559407496866,0.253141981704156,0.985142264503018,3.49839239617752,11.3363405053236,33.5206195453511,90.4452960246329,143.552581137523,222.686928490053,337.626978945809,500.308934560501,724.599571253481,1025.69109512874,1209.89547666499,1419.03724906478,1654.83391420918,1918.7999763369,2212.1759711844,2535.85438387369,2890.3046848485,3275.50009787044,3690.84902984484,4135.13431149322,4606.46349491549,5102.23340699734,6153.03976722936,7252.33438760203,8354.57989587306,9406.54443246845,9895.8902569801,10351.2859070985,10765.8521795791,11133.1278209476,11447.2364276632,11703.042566507,11896.2913309292,12023.7260384529,12083.1795211649,12073.6354337106,11995.2571553027,11849.3831372781,11638.4888813277,11366.1170576662,11036.7785196587,10655.8280791533,10229.3198209248,9763.84741302185,9266.375284403,8744.06667955515,6547.48495923566,5474.48261751249,4473.7359870443,4009.64568757196,3573.19172237409,3166.07585048109,2789.33698673112,2443.404282199,2128.16036332628,1843.01149694112,1586.96158152162,1358.6871136397,1156.61061610883,823.885071263828,573.594252658977,390.30278203974,259.571616025853,168.721898360654,66.5542896408059,23.9560628913858,7.8684579754197,2.35829759259373,0.644974253607167,0.160961104133295,0.036655090769798,0.00761697357692186,0.0014443265402773,2.49909708145618e-4,3.94580533675676e-5,5.68490193317604e-6,7.47386229456864e-7,8.96606739672859e-8,9.81507673608003e-9,9.80438129064902e-10,8.93678847383211e-11,8.93678847383211e-11,8.93678847383211e-11,0],\"fFunctions\":{\"_typename\":\"TList\",\"name\":\"TList\",\"arr\":[],\"opt\":[]},\"fHistogram\":{\"_typename\":\"TH1F\",\"fUniqueID\":0,\"fBits\":512,\"fName\":\"signalOnly\",\"fTitle\":\"Signal Model\",\"fLineColor\":602,\"fLineStyle\":1,\"fLineWidth\":1,\"fFillColor\":0,\"fFillStyle\":1001,\"fMarkerColor\":1,\"fMarkerStyle\":1,\"fMarkerSize\":1,\"fNcells\":148,\"fXaxis\":{\"_typename\":\"TAxis\",\"fUniqueID\":0,\"fBits\":0,\"fName\":\"xaxis\",\"fTitle\":\"\",\"fNdivisions\":510,\"fAxisColor\":1,\"fLabelColor\":1,\"fLabelFont\":42,\"fLabelOffset\":0.005,\"fLabelSize\":0.035,\"fTickLength\":0.03,\"fTitleOffset\":1,\"fTitleSize\":0.035,\"fTitleColor\":1,\"fTitleFont\":42,\"fNbins\":146,\"fXmin\":-116.8018,\"fXmax\":66.8018,\"fXbins\":[],\"fFirst\":0,\"fLast\":0,\"fBits2\":0,\"fTimeDisplay\":false,\"fTimeFormat\":\"\",\"fLabels\":null,\"fModLabs\":null},\"fYaxis\":{\"_typename\":\"TAxis\",\"fUniqueID\":0,\"fBits\":0,\"fName\":\"yaxis\",\"fTitle\":\"\",\"fNdivisions\":510,\"fAxisColor\":1,\"fLabelColor\":1,\"fLabelFont\":42,\"fLabelOffset\":0.005,\"fLabelSize\":0.035,\"fTickLength\":0.03,\"fTitleOffset\":0,\"fTitleSize\":0.035,\"fTitleColor\":1,\"fTitleFont\":42,\"fNbins\":1,\"fXmin\":0,\"fXmax\":13291.4974732814,\"fXbins\":[],\"fFirst\":0,\"fLast\":0,\"fBits2\":0,\"fTimeDisplay\":false,\"fTimeFormat\":\"\",\"fLabels\":null,\"fModLabs\":null},\"fZaxis\":{\"_typename\":\"TAxis\",\"fUniqueID\":0,\"fBits\":0,\"fName\":\"zaxis\",\"fTitle\":\"\",\"fNdivisions\":510,\"fAxisColor\":1,\"fLabelColor\":1,\"fLabelFont\":42,\"fLabelOffset\":0.005,\"fLabelSize\":0.035,\"fTickLength\":0.03,\"fTitleOffset\":1,\"fTitleSize\":0.035,\"fTitleColor\":1,\"fTitleFont\":42,\"fNbins\":1,\"fXmin\":0,\"fXmax\":1,\"fXbins\":[],\"fFirst\":0,\"fLast\":0,\"fBits2\":0,\"fTimeDisplay\":false,\"fTimeFormat\":\"\",\"fLabels\":null,\"fModLabs\":null},\"fBarOffset\":0,\"fBarWidth\":1000,\"fEntries\":0,\"fTsumw\":0,\"fTsumw2\":0,\"fTsumwx\":0,\"fTsumwx2\":0,\"fMaximum\":13291.4974732814,\"fMinimum\":0,\"fNormFactor\":0,\"fContour\":[],\"fSumw2\":[],\"fOption\":\"\",\"fFunctions\":{\"_typename\":\"TList\",\"name\":\"TList\",\"arr\":[],\"opt\":[]},\"fBufferSize\":0,\"fBuffer\":[],\"fBinStatErrOpt\":0,\"fStatOverflows\":2,\"fArray\":[0,0,0,0,0,0,0,0,0,0,0,0,0,0,0,0,0,0,0,0,0,0,0,0,0,0,0,0,0,0,0,0,0,0,0,0,0,0,0,0,0,0,0,0,0,0,0,0,0,0,0,0,0,0,0,0,0,0,0,0,0,0,0,0,0,0,0,0,0,0,0,0,0,0,0,0,0,0,0,0,0,0,0,0,0,0,0,0,0,0,0,0,0,0,0,0,0,0,0,0,0,0,0,0,0,0,0,0,0,0,0,0,0,0,0,0,0,0,0,0,0,0,0,0,0,0,0,0,0,0,0,0,0,0,0,0,0,0,0,0,0,0,0,0,0,0,0,0]},\"fMinimum\":-1111,\"fMaximum\":-1111,\"_yAxisLabel\":\"Projection of Gauss signal + Bernstein background\",\"_ymin\":0,\"_ymax\":12083.1795211649,\"_normValue\":0},{\"$ref\":3},{\"_typename\":\"TLegend\",\"fUniqueID\":0,\"fBits\":8,\"fLineColor\":1,\"fLineStyle\":1,\"fLineWidth\":1,\"fFillColor\":0,\"fFillStyle\":0,\"fX1\":-25,\"fY1\":24052.5852035373,\"fX2\":50.0000011175872,\"fY2\":32070.1136843633,\"fX1NDC\":0.5,\"fY1NDC\":0.7,\"fX2NDC\":0.9,\"fY2NDC\":0.9,\"fBorderSize\":0,\"fInit\":1,\"fShadowColor\":1,\"fCornerRadius\":0,\"fOption\":\"brNDC\",\"fName\":\"TPave\",\"fTextAngle\":0,\"fTextSize\":0,\"fTextAlign\":12,\"fTextColor\":1,\"fTextFont\":42,\"fPrimitives\":{\"_typename\":\"TList\",\"name\":\"TList\",\"arr\":[{\"_typename\":\"TLegendEntry\",\"fUniqueID\":0,\"fBits\":0,\"fTextAngle\":0,\"fTextSize\":0,\"fTextAlign\":0,\"fTextColor\":0,\"fTextFont\":42,\"fLineColor\":1,\"fLineStyle\":1,\"fLineWidth\":1,\"fFillColor\":0,\"fFillStyle\":1000,\"fMarkerColor\":1,\"fMarkerStyle\":8,\"fMarkerSize\":1,\"fObject\":{\"$ref\":8},\"fLabel\":\"Histogram of modelData_plot__x\",\"fOption\":\"lpf\"},{\"_typename\":\"TLegendEntry\",\"fUniqueID\":0,\"fBits\":0,\"fTextAngle\":0,\"fTextSize\":0,\"fTextAlign\":0,\"fTextColor\":0,\"fTextFont\":42,\"fLineColor\":600,\"fLineStyle\":1,\"fLineWidth\":3,\"fFillColor\":0,\"fFillStyle\":1000,\"fMarkerColor\":1,\"fMarkerStyle\":1,\"fMarkerSize\":1,\"fObject\":{\"$ref\":15},\"fLabel\":\"Projection of Gauss signal + Bernstein background\",\"fOption\":\"lpf\"},{\"_typename\":\"TLegendEntry\",\"fUniqueID\":0,\"fBits\":0,\"fTextAngle\":0,\"fTextSize\":0,\"fTextAlign\":0,\"fTextColor\":0,\"fTextFont\":42,\"fLineColor\":632,\"fLineStyle\":1,\"fLineWidth\":3,\"fFillColor\":0,\"fFillStyle\":1000,\"fMarkerColor\":1,\"fMarkerStyle\":1,\"fMarkerSize\":1,\"fObject\":{\"$ref\":22},\"fLabel\":\"Signal Model\",\"fOption\":\"lpf\"}],\"opt\":[\"lpf\",\"lpf\",\"lpf\"]},\"fEntrySeparation\":0.1,\"fMargin\":0.25,\"fNColumns\":1,\"fColumnSeparation\":0},{\"_typename\":\"TPaveText\",\"fUniqueID\":0,\"fBits\":9,\"fLineColor\":1,\"fLineStyle\":1,\"fLineWidth\":1,\"fFillColor\":0,\"fFillStyle\":0,\"fX1\":-52.0635779894857,\"fY1\":33673.619538827,\"fX2\":2.06357798948567,\"fY2\":35878.4399039085,\"fX1NDC\":0.35566091954023,\"fY1NDC\":0.940000003948808,\"fX2NDC\":0.64433908045977,\"fY2NDC\":0.995000004768372,\"fBorderSize\":0,\"fInit\":1,\"fShadowColor\":1,\"fCornerRadius\":0,\"fOption\":\"blNDC\",\"fName\":\"title\",\"fTextAngle\":0,\"fTextSize\":0,\"fTextAlign\":22,\"fTextColor\":1,\"fTextFont\":42,\"fLabel\":\"\",\"fLongest\":16,\"fMargin\":0.05,\"fLines\":{\"_typename\":\"TList\",\"name\":\"TList\",\"arr\":[{\"_typename\":\"TLatex\",\"fUniqueID\":0,\"fBits\":0,\"fName\":\"\",\"fTitle\":\"A RooPlot of \\\"x\\\"\",\"fTextAngle\":0,\"fTextSize\":0,\"fTextAlign\":0,\"fTextColor\":0,\"fTextFont\":0,\"fX\":0,\"fY\":0,\"fLineColor\":1,\"fLineStyle\":1,\"fLineWidth\":2,\"fLimitFactorSize\":3,\"fOriginSize\":0.0467500016093254}],\"opt\":[\"\"]}},{\"_typename\":\"TStyle\",\"fUniqueID\":0,\"fBits\":0,\"fName\":\"Modern\",\"fTitle\":\"Modern Style\",\"fLineColor\":1,\"fLineStyle\":1,\"fLineWidth\":1,\"fFillColor\":19,\"fFillStyle\":1001,\"fMarkerColor\":1,\"fMarkerStyle\":1,\"fMarkerSize\":1,\"fTextAngle\":0,\"fTextSize\":0.05,\"fTextAlign\":11,\"fTextColor\":1,\"fTextFont\":62,\"fXaxis\":{\"_typename\":\"TAttAxis\",\"fNdivisions\":510,\"fAxisColor\":1,\"fLabelColor\":1,\"fLabelFont\":42,\"fLabelOffset\":0.005,\"fLabelSize\":0.035,\"fTickLength\":0.03,\"fTitleOffset\":1,\"fTitleSize\":0.035,\"fTitleColor\":1,\"fTitleFont\":42},\"fYaxis\":{\"_typename\":\"TAttAxis\",\"fNdivisions\":510,\"fAxisColor\":1,\"fLabelColor\":1,\"fLabelFont\":42,\"fLabelOffset\":0.005,\"fLabelSize\":0.035,\"fTickLength\":0.03,\"fTitleOffset\":0,\"fTitleSize\":0.035,\"fTitleColor\":1,\"fTitleFont\":42},\"fZaxis\":{\"_typename\":\"TAttAxis\",\"fNdivisions\":510,\"fAxisColor\":1,\"fLabelColor\":1,\"fLabelFont\":42,\"fLabelOffset\":0.005,\"fLabelSize\":0.035,\"fTickLength\":0.03,\"fTitleOffset\":1,\"fTitleSize\":0.035,\"fTitleColor\":1,\"fTitleFont\":42},\"fBarWidth\":1,\"fBarOffset\":0,\"fColorModelPS\":0,\"fDrawBorder\":0,\"fOptLogx\":0,\"fOptLogy\":0,\"fOptLogz\":0,\"fOptDate\":0,\"fOptStat\":1111,\"fOptTitle\":1,\"fOptFile\":0,\"fOptFit\":0,\"fShowEventStatus\":0,\"fShowEditor\":0,\"fShowToolBar\":0,\"fNumberContours\":20,\"fAttDate\":{\"_typename\":\"TAttText\",\"fTextAngle\":0,\"fTextSize\":0.025,\"fTextAlign\":11,\"fTextColor\":1,\"fTextFont\":62},\"fDateX\":0.01,\"fDateY\":0.01,\"fEndErrorSize\":2,\"fErrorX\":0.5,\"fFuncColor\":2,\"fFuncStyle\":1,\"fFuncWidth\":2,\"fGridColor\":0,\"fGridStyle\":3,\"fGridWidth\":1,\"fLegendBorderSize\":1,\"fLegendFillColor\":0,\"fLegendFont\":42,\"fLegendTextSize\":0,\"fHatchesLineWidth\":1,\"fHatchesSpacing\":1,\"fFrameFillColor\":0,\"fFrameLineColor\":1,\"fFrameFillStyle\":1001,\"fFrameLineStyle\":1,\"fFrameLineWidth\":1,\"fFrameBorderSize\":1,\"fFrameBorderMode\":0,\"fHistFillColor\":0,\"fHistLineColor\":602,\"fHistFillStyle\":1001,\"fHistLineStyle\":1,\"fHistLineWidth\":1,\"fHistMinimumZero\":false,\"fHistTopMargin\":0.05,\"fCanvasPreferGL\":false,\"fCanvasColor\":0,\"fCanvasBorderSize\":2,\"fCanvasBorderMode\":0,\"fCanvasDefH\":500,\"fCanvasDefW\":700,\"fCanvasDefX\":10,\"fCanvasDefY\":10,\"fPadColor\":0,\"fPadBorderSize\":2,\"fPadBorderMode\":0,\"fPadBottomMargin\":0.1,\"fPadTopMargin\":0.1,\"fPadLeftMargin\":0.1,\"fPadRightMargin\":0.1,\"fPadGridX\":false,\"fPadGridY\":false,\"fPadTickX\":0,\"fPadTickY\":0,\"fPaperSizeX\":20,\"fPaperSizeY\":26,\"fScreenFactor\":1,\"fStatColor\":0,\"fStatTextColor\":1,\"fStatBorderSize\":1,\"fStatFont\":42,\"fStatFontSize\":0,\"fStatStyle\":1001,\"fStatFormat\":\"6.4g\",\"fStatX\":0.98,\"fStatY\":0.935,\"fStatW\":0.2,\"fStatH\":0.16,\"fStripDecimals\":true,\"fTitleAlign\":23,\"fTitleColor\":0,\"fTitleTextColor\":1,\"fTitleBorderSize\":0,\"fTitleFont\":42,\"fTitleFontSize\":0.05,\"fTitleStyle\":0,\"fTitleX\":0.5,\"fTitleY\":0.995,\"fTitleW\":0,\"fTitleH\":0,\"fLegoInnerR\":0.5,\"fLineStyle\":[\"\",\"  \",\" 12 12\",\" 4 8\",\" 12 16 4 16\",\" 20 12 4 12\",\" 20 12 4 12 4 12 4 12\",\" 20 20\",\" 20 12 4 12 4 12\",\" 80 20\",\" 80 40 4 40\",\"  \",\"  \",\"  \",\"  \",\"  \",\"  \",\"  \",\"  \",\"  \",\"  \",\"  \",\"  \",\"  \",\"  \",\"  \",\"  \",\"  \",\"  \",\"  \"],\"fHeaderPS\":\"\",\"fTitlePS\":\"\",\"fFitFormat\":\"5.4g\",\"fPaintTextFormat\":\"g\",\"fLineScalePS\":3,\"fJoinLinePS\":0,\"fCapLinePS\":0,\"fTimeOffset\":788918400,\"fImageScaling\":1}],\"opt\":[\"\",\"FUNC\",\"p\",\"l\",\"l\",\"AXISSAME\",\"\",\"blNDC\",\"\"]},\"fExecs\":null,\"fName\":\"c1\",\"fTitle\":\"c1\",\"fNumPaletteColor\":0,\"fNextPaletteColor\":0,\"fDISPLAY\":\"$DISPLAY\",\"fDoubleBuffer\":0,\"fRetained\":true,\"fXsizeUser\":0,\"fYsizeUser\":0,\"fXsizeReal\":20,\"fYsizeReal\":14.28571,\"fWindowTopX\":0,\"fWindowTopY\":0,\"fWindowWidth\":0,\"fWindowHeight\":0,\"fCw\":696,\"fCh\":472,\"fCatt\":{\"_typename\":\"TAttCanvas\",\"fXBetween\":2,\"fYBetween\":2,\"fTitleFromTop\":1.2,\"fXdate\":0.2,\"fYdate\":0.3,\"fAdate\":1},\"kMoveOpaque\":true,\"kResizeOpaque\":true,\"fHighLightColor\":2,\"fBatch\":true,\"kShowEventStatus\":false,\"kAutoExec\":true,\"kMenuBar\":true});\n",
       "   Core.settings.HandleKeys = false;\n",
       "   Core.draw(\"root_plot_1610998112559\", obj, \"\");\n",
       "}\n",
       "</script>\n"
      ],
      "text/plain": [
       "<IPython.core.display.HTML object>"
      ]
     },
     "metadata": {},
     "output_type": "display_data"
    },
    {
     "name": "stdout",
     "output_type": "stream",
     "text": [
      "[#1] INFO:Plotting -- RooAbsPdf::plotOn(model) directly selected PDF components: (gauss)\n",
      "[#1] INFO:Plotting -- RooAbsPdf::plotOn(model) indirectly selected PDF components: ()\n"
     ]
    }
   ],
   "source": [
    "%jsroot on\n",
    "\n",
    "TCanvas canv;\n",
    "auto frame = x.frame();\n",
    "\n",
    "dataSet->plotOn(frame);\n",
    "model.plotOn(frame);\n",
    "model.plotOn(frame, RooFit::Components(\"gauss\"), RooFit::LineColor(kRed), RooFit::Name(\"signalOnly\"));\n",
    "frame->Draw();\n",
    "\n",
    "// Let's build a legend.\n",
    "// To do that, we first change the auto-generated title of the signalOnly curve:\n",
    "dynamic_cast<RooCurve*>(frame->findObject(\"signalOnly\"))->SetTitle(\"Signal Model\");\n",
    "\n",
    "auto leg = frame->BuildLegend();\n",
    "leg->Draw();\n",
    "\n",
    "canv.Draw();"
   ]
  },
  {
   "cell_type": "code",
   "execution_count": null,
   "metadata": {},
   "outputs": [],
   "source": []
  }
 ],
 "metadata": {
  "kernelspec": {
   "display_name": "ROOT C++",
   "language": "c++",
   "name": "root"
  },
  "language_info": {
   "codemirror_mode": "text/x-c++src",
   "file_extension": ".C",
   "mimetype": " text/x-c++src",
   "name": "c++"
  },
  "latex_envs": {
   "LaTeX_envs_menu_present": true,
   "autoclose": false,
   "autocomplete": true,
   "bibliofile": "biblio.bib",
   "cite_by": "apalike",
   "current_citInitial": 1,
   "eqLabelWithNumbers": true,
   "eqNumInitial": 1,
   "hotkeys": {
    "equation": "Ctrl-E",
    "itemize": "Ctrl-I"
   },
   "labels_anchors": false,
   "latex_user_defs": false,
   "report_style_numbering": false,
   "user_envs_cfg": false
  }
 },
 "nbformat": 4,
 "nbformat_minor": 4
}
