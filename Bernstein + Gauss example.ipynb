{
 "cells": [
  {
   "cell_type": "markdown",
   "metadata": {},
   "source": [
    "# The optimised computation library of RooFit\n",
    "Author: Stephan Hageboeck\n",
    "\n",
    "Here, we test the impact of using a computation library that is optimised for different CPU models.\n",
    "When RooFit is loaded for the first time, the CPU capabilities are inspected, and a computation library targeted for that CPU is loaded.\n",
    "\n",
    "We visualise this with a little hack here:"
   ]
  },
  {
   "cell_type": "code",
   "execution_count": 1,
   "metadata": {},
   "outputs": [],
   "source": [
    "gDebug = 1;"
   ]
  },
  {
   "cell_type": "markdown",
   "metadata": {},
   "source": [
    "With ROOT's `gDebug` set to 1, ROOT prints things that happen behind the scenes.Let's now use a RooFit class, which triggers the loading of the RooFit libraries.\n",
    "\n",
    "Note that ROOT loads a library with a suffix such as `_AVX2.so` (depending on the CPU where this runs). \n",
    "\n",
    "We turn `gDebug` off, and now go on to run some fits."
   ]
  },
  {
   "cell_type": "code",
   "execution_count": 2,
   "metadata": {},
   "outputs": [
    {
     "name": "stdout",
     "output_type": "stream",
     "text": [
      "\n",
      "\u001b[1mRooFit v3.60 -- Developed by Wouter Verkerke and David Kirkby\u001b[0m \n",
      "                Copyright (C) 2000-2013 NIKHEF, University of California & Stanford University\n",
      "                All rights reserved, please read http://roofit.sourceforge.net/license.txt\n",
      "\n",
      "In roofitcore/InitUtils.cxx:loadComputeLibrary(): Library libRooBatchCompute_AVX2 was loaded successfully\n"
     ]
    },
    {
     "name": "stderr",
     "output_type": "stream",
     "text": [
      "Info in <TUnixSystem::Load>: loaded library /cvmfs/sft-nightlies.cern.ch/lcg/views/dev3/Thu/x86_64-centos7-gcc8-opt/lib/libRooBatchCompute_AVX2.so, status 0\n",
      "Info in <TUnixSystem::Load>: loaded library /cvmfs/sft-nightlies.cern.ch/lcg/nightlies/dev3/Thu/ROOT/HEAD/x86_64-centos7-gcc8-opt/lib/libRooFitCore.so, status 1\n"
     ]
    }
   ],
   "source": [
    "RooRealVar __var;\n",
    "gDebug = 0;"
   ]
  },
  {
   "cell_type": "markdown",
   "metadata": {},
   "source": [
    "# Let's run a speed test\n",
    "Let's test a fit of the form\n",
    "\\[\n",
    "\\mathrm{Model}\\left( x\\, |\\, \\mu, \\sigma, a_1, \\ldots, a_5 \\right) = f \\cdot \\mathrm{Gauss}(x\\, |\\, \\mu, \\sigma) + (1 - f) \\cdot \\mathrm{Bernstein}_5(x\\, |\\, a_1, ..., a_5)\n",
    "\\]\n",
    "\n",
    "### Step 1: Create a background model (Bernstein polynomials)"
   ]
  },
  {
   "cell_type": "code",
   "execution_count": 3,
   "metadata": {},
   "outputs": [],
   "source": [
    "RooRealVar  x(\"x\", \"x\", -100, 50);\n",
    "RooRealVar a1(\"a1\", \"a1\", 0.8, 0.6, 1.2);\n",
    "RooRealVar a2(\"a2\", \"a2\", 0.0, -1.0, 1.0);\n",
    "RooRealVar a3(\"a3\", \"a3\", 0.09, 0.05, 0.4);\n",
    "RooRealVar a4(\"a4\", \"a4\", 0.0, 0.2, 0.8);\n",
    "RooRealVar a5(\"a5\", \"a5\", 0.09, 0.05, 0.5);\n",
    "a4.setConstant();\n",
    "a3.setConstant();\n",
    "a2.setConstant();\n",
    "\n",
    "RooBernstein bernstein(\"bernstein\", \"bernstein PDF 5 coefficients\", x, RooArgSet(a1, a2, a3, a4, a5));"
   ]
  },
  {
   "cell_type": "markdown",
   "metadata": {},
   "source": [
    "### Step 2: Create a signal model (Gaussian)\n",
    "Note how newer RooFit versions complain that negative `sigma` don't make sense. We can still run the fit, though. The fitter has ways to recover from undefined regions."
   ]
  },
  {
   "cell_type": "code",
   "execution_count": 4,
   "metadata": {},
   "outputs": [
    {
     "name": "stdout",
     "output_type": "stream",
     "text": [
      "[#0] WARNING:InputArguments -- The parameter 'sigma' with range [-10, 50] of the RooGaussian 'gauss' exceeds the safe range of (0, inf). Advise to limit its range.\n"
     ]
    }
   ],
   "source": [
    "RooRealVar mean(\"mean\", \"mean\", 10, -100, 50);\n",
    "RooRealVar sigma(\"sigma\", \"sigma\", 5, -10, 50);\n",
    "RooGaussian gauss(\"gauss\", \"Gaussian signal model\", x, mean, sigma);"
   ]
  },
  {
   "cell_type": "markdown",
   "metadata": {},
   "source": [
    "### Step 3: Create a sum model"
   ]
  },
  {
   "cell_type": "code",
   "execution_count": 5,
   "metadata": {},
   "outputs": [],
   "source": [
    "RooRealVar fracSig(\"sigFrac\", \"Number of signal events\", 0.1, 0, 1);\n",
    "RooAddPdf model(\"model\", \"Gauss signal + Bernstein background\", RooArgSet(gauss, bernstein), RooArgSet(fracSig));"
   ]
  },
  {
   "cell_type": "markdown",
   "metadata": {},
   "source": [
    "We save the initial parameters of the model, so we can reuse them later"
   ]
  },
  {
   "cell_type": "code",
   "execution_count": 6,
   "metadata": {},
   "outputs": [],
   "source": [
    "RooArgSet parameters(a1, a2, a3, a4, a5, mean, sigma, fracSig);\n",
    "RooArgSet* initialParameters = parameters.snapshot();"
   ]
  },
  {
   "cell_type": "markdown",
   "metadata": {},
   "source": [
    "# Generate data and fit model\n",
    "We create a dataset by sampling events from the model"
   ]
  },
  {
   "cell_type": "code",
   "execution_count": 7,
   "metadata": {},
   "outputs": [],
   "source": [
    "auto dataSet = model.generate(x, 1000000);"
   ]
  },
  {
   "cell_type": "markdown",
   "metadata": {},
   "source": [
    "# Let's run some fits\n",
    "\n",
    "### 1. Run fit with classic RooFit computation\n",
    "We first load the initial parameters (so that all fits start from the same point), and then we fit the model with 2 cores (SWAN doesn't provide more).\n",
    "Note that the fitter often chooses a parameter point with negative sigma, where the model is undefined. It prints a message, but it recovers and finishes the fit.\n",
    "\n",
    "After the fit, we print the parameters and the execution time of the cell."
   ]
  },
  {
   "cell_type": "code",
   "execution_count": null,
   "metadata": {},
   "outputs": [],
   "source": [
    "%%time\n",
    "parameters = *initialParameters;\n",
    "model.fitTo(*dataSet, RooFit::PrintLevel(-1),\n",
    "            RooFit::NumCPU(2));\n",
    "parameters.Print(\"V\");"
   ]
  },
  {
   "cell_type": "markdown",
   "metadata": {},
   "source": [
    "### 2. Run same fit with fast batch evaluation\n",
    "Using `BatchMode(true)`, we switch to the faster batch computation interface.\n",
    "It has completely redesigned memory access patterns, and uses optimised math functions with\n",
    "vectorisation, and thus can process events much faster.\n",
    "\n",
    "Compare the post-fit parameters and execution time with the above.\n",
    "The parameters are virtually identical, but the fit is *a lot* faster."
   ]
  },
  {
   "cell_type": "code",
   "execution_count": null,
   "metadata": {},
   "outputs": [],
   "source": [
    "%%time\n",
    "parameters = *initialParameters;\n",
    "model.fitTo(*dataSet, RooFit::PrintLevel(-1),\n",
    "            RooFit::NumCPU(2),\n",
    "            RooFit::BatchMode(true));\n",
    "parameters.Print(\"V\");"
   ]
  },
  {
   "cell_type": "markdown",
   "metadata": {},
   "source": [
    "### 3. Repeat above comparisons with only one CPU"
   ]
  },
  {
   "cell_type": "code",
   "execution_count": null,
   "metadata": {},
   "outputs": [],
   "source": [
    "%%time\n",
    "parameters = *initialParameters;\n",
    "model.fitTo(*dataSet, RooFit::PrintLevel(-1));"
   ]
  },
  {
   "cell_type": "code",
   "execution_count": null,
   "metadata": {},
   "outputs": [],
   "source": [
    "%%time\n",
    "parameters = *initialParameters;\n",
    "model.fitTo(*dataSet, RooFit::PrintLevel(-1),\n",
    "            RooFit::BatchMode(true));"
   ]
  },
  {
   "cell_type": "markdown",
   "metadata": {},
   "source": [
    "## Plot post-fit model\n",
    "Let's use jsroot to compare data and post-fit model.\n",
    "Note that one should always plot the data first, so RooFit adjusts the normalisation of the PDF to match the data.\n",
    "\n",
    "If you are viewing this notebook without a running kernel, the live display won't be available."
   ]
  },
  {
   "cell_type": "code",
   "execution_count": null,
   "metadata": {
    "scrolled": false
   },
   "outputs": [],
   "source": [
    "%jsroot on\n",
    "\n",
    "TCanvas canv;\n",
    "auto frame = x.frame();\n",
    "\n",
    "dataSet->plotOn(frame);\n",
    "model.plotOn(frame);\n",
    "model.plotOn(frame, RooFit::Components(\"gauss\"), RooFit::LineColor(kRed), RooFit::Name(\"signalOnly\"));\n",
    "frame->Draw();\n",
    "\n",
    "// Let's build a legend.\n",
    "// To do that, we first change the auto-generated title of the signalOnly curve:\n",
    "dynamic_cast<RooCurve*>(frame->findObject(\"signalOnly\"))->SetTitle(\"Signal Model\");\n",
    "\n",
    "auto leg = frame->BuildLegend();\n",
    "leg->Draw();\n",
    "\n",
    "canv.Draw();"
   ]
  }
 ],
 "metadata": {
  "kernelspec": {
   "display_name": "ROOT C++",
   "language": "c++",
   "name": "root"
  },
  "language_info": {
   "codemirror_mode": "text/x-c++src",
   "file_extension": ".C",
   "mimetype": " text/x-c++src",
   "name": "c++"
  },
  "latex_envs": {
   "LaTeX_envs_menu_present": true,
   "autoclose": false,
   "autocomplete": true,
   "bibliofile": "biblio.bib",
   "cite_by": "apalike",
   "current_citInitial": 1,
   "eqLabelWithNumbers": true,
   "eqNumInitial": 1,
   "hotkeys": {
    "equation": "Ctrl-E",
    "itemize": "Ctrl-I"
   },
   "labels_anchors": false,
   "latex_user_defs": false,
   "report_style_numbering": false,
   "user_envs_cfg": false
  }
 },
 "nbformat": 4,
 "nbformat_minor": 4
}
